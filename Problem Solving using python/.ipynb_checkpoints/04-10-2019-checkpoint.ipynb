{
 "cells": [
  {
   "cell_type": "code",
   "execution_count": 1,
   "metadata": {},
   "outputs": [],
   "source": [
    "## File Modes\n",
    "#tell\n",
    "#seek\n",
    "#w+=write and read"
   ]
  },
  {
   "cell_type": "code",
   "execution_count": 3,
   "metadata": {},
   "outputs": [],
   "source": [
    "# create a file=file_operations.txt\n",
    "filepath=\"file_operations.txt\"\n",
    "def filewrite(filepath):\n",
    "    with open(filepath,'w') as f:\n",
    "        f.write(filepath)\n",
    "filewrite(filepath)"
   ]
  },
  {
   "cell_type": "code",
   "execution_count": 28,
   "metadata": {},
   "outputs": [],
   "source": [
    "filepath=\"file_operations.txt\"\n",
    "def filewrite(filepath,mode):\n",
    "    with open(filepath,'w') as f:\n",
    "        f.write(mode)\n",
    "        f.write(\"\\nPyprogram\")\n",
    "        \n",
    "filewrite(filepath,\"hello\\n\")        "
   ]
  },
  {
   "cell_type": "code",
   "execution_count": 50,
   "metadata": {},
   "outputs": [
    {
     "name": "stdout",
     "output_type": "stream",
     "text": [
      "hello\n",
      "Pyprogram\n",
      "15\n"
     ]
    }
   ],
   "source": [
    "f=open(\"file_operations.txt\",'r')\n",
    "f1=f.read(15)\n",
    "print(f1)\n",
    "print(f.tell())\n",
    "f2=f.seek(3)\n",
    "#print(f2)\n",
    "f.close()"
   ]
  },
  {
   "cell_type": "code",
   "execution_count": 51,
   "metadata": {},
   "outputs": [
    {
     "data": {
      "text/plain": [
       "17"
      ]
     },
     "execution_count": 51,
     "metadata": {},
     "output_type": "execute_result"
    }
   ],
   "source": [
    "x=open(\"file_operations.txt\",'r')\n",
    "x.read()\n",
    "x.tell()"
   ]
  },
  {
   "cell_type": "code",
   "execution_count": 54,
   "metadata": {},
   "outputs": [
    {
     "data": {
      "text/plain": [
       "3"
      ]
     },
     "execution_count": 54,
     "metadata": {},
     "output_type": "execute_result"
    }
   ],
   "source": [
    "x=open(\"file_operations.txt\",'r')\n",
    "x.read()\n",
    "x.seek(3)"
   ]
  },
  {
   "cell_type": "code",
   "execution_count": null,
   "metadata": {},
   "outputs": [],
   "source": []
  }
 ],
 "metadata": {
  "kernelspec": {
   "display_name": "Python 3",
   "language": "python",
   "name": "python3"
  },
  "language_info": {
   "codemirror_mode": {
    "name": "ipython",
    "version": 3
   },
   "file_extension": ".py",
   "mimetype": "text/x-python",
   "name": "python",
   "nbconvert_exporter": "python",
   "pygments_lexer": "ipython3",
   "version": "3.7.3"
  }
 },
 "nbformat": 4,
 "nbformat_minor": 2
}

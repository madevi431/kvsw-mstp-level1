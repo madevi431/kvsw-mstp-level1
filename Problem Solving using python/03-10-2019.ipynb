{
 "cells": [
  {
   "cell_type": "markdown",
   "metadata": {},
   "source": [
    "# File handling in python\n"
   ]
  },
  {
   "cell_type": "markdown",
   "metadata": {},
   "source": [
    "1.read--r\n",
    "2.write --w\n",
    "3.append--a\n",
    "4.read&write--r+\n",
    "5.write&read--w+\n",
    "6.append&read--a+\n",
    "7.Exclusive write--x"
   ]
  },
  {
   "cell_type": "code",
   "execution_count": 1,
   "metadata": {},
   "outputs": [],
   "source": [
    "#file opening\n",
    "#file=open(\"sample.txt\",\"mode\")"
   ]
  },
  {
   "cell_type": "code",
   "execution_count": 10,
   "metadata": {},
   "outputs": [],
   "source": [
    "# create a file and add some content\n",
    "f=open(\"data.txt\",'w')\n",
    "f.write(\"welcome python\")\n",
    "f.write(\"\\nkvsw\\n\")\n",
    "f.close()"
   ]
  },
  {
   "cell_type": "code",
   "execution_count": 8,
   "metadata": {},
   "outputs": [
    {
     "name": "stdout",
     "output_type": "stream",
     "text": [
      "welcome python\n",
      "kvsw\n",
      "\n"
     ]
    }
   ],
   "source": [
    "#print content of a file\n",
    "filedata=open(\"data.txt\",'r')\n",
    "f1=filedata.read()\n",
    "print(f1)\n",
    "#filedata.close()\n"
   ]
  },
  {
   "cell_type": "code",
   "execution_count": 13,
   "metadata": {},
   "outputs": [
    {
     "name": "stdout",
     "output_type": "stream",
     "text": [
      "welcome python\n",
      "kvsw\n",
      "\n"
     ]
    }
   ],
   "source": [
    "#function to print data of a file \n",
    "def read_content(filepath):\n",
    "    filepath=open(\"data.txt\",'r')\n",
    "    data=filepath.read()\n",
    "    print(data)\n",
    "filepath=\"data.txt\"\n",
    "read_content(filepath)    "
   ]
  },
  {
   "cell_type": "code",
   "execution_count": 15,
   "metadata": {},
   "outputs": [],
   "source": [
    "#Function to write data to a file\n",
    "#data=\"mstp apssdc\"\n",
    "def write_data(filepath):\n",
    "    filepath=open(\"data.txt\",'w')\n",
    "    filepath.write(\"apssdc mstp\")\n",
    "    filepath.close()\n",
    "filepath=\"data.txt\"\n",
    "write_data(filepath)"
   ]
  },
  {
   "cell_type": "code",
   "execution_count": 20,
   "metadata": {},
   "outputs": [],
   "source": [
    "#Function to add a new content to a file\n",
    "def add_data(filepath):\n",
    "    filepath=open(\"data.txt\",'a')\n",
    "    filepath.write(\"\\nwelcome\")\n",
    "    filepath.write(\"python\")\n",
    "    filepath.close()\n",
    "filepath=\"data.txt\"\n",
    "add_data(filepath)"
   ]
  },
  {
   "cell_type": "code",
   "execution_count": 22,
   "metadata": {},
   "outputs": [
    {
     "name": "stdout",
     "output_type": "stream",
     "text": [
      "<class 'str'>\n"
     ]
    }
   ],
   "source": [
    "def read_filecontent(file):\n",
    "    file=open(\"data.txt\",'r')\n",
    "    x=file.read()\n",
    "    print(type(x))\n",
    "file=\"data.txt\"\n",
    "read_filecontent(file)\n",
    "    "
   ]
  },
  {
   "cell_type": "code",
   "execution_count": 23,
   "metadata": {},
   "outputs": [
    {
     "name": "stdout",
     "output_type": "stream",
     "text": [
      "apssdc mstp\n",
      "\n"
     ]
    }
   ],
   "source": [
    "f=open(\"data.txt\",'r')\n",
    "x=f.readline()\n",
    "print(x)"
   ]
  },
  {
   "cell_type": "code",
   "execution_count": 26,
   "metadata": {},
   "outputs": [
    {
     "name": "stdout",
     "output_type": "stream",
     "text": [
      "['apssdc mstp\\n', 'welcome\\n', '\\n', 'welcome\\n', 'python\\n', '\\n', 'welcomepython'] "
     ]
    }
   ],
   "source": [
    "f=open(\"data.txt\",'r')\n",
    "z=f.readlines()\n",
    "print(z,end=\" \")"
   ]
  },
  {
   "cell_type": "code",
   "execution_count": 27,
   "metadata": {},
   "outputs": [
    {
     "name": "stdout",
     "output_type": "stream",
     "text": [
      "['apssdc mstp\\n', 'welcome\\n', '\\n', 'welcome\\n', 'python\\n', '\\n', 'welcomepython']\n",
      "apssdc mstp\n",
      " welcome\n",
      " \n",
      " welcome\n",
      " python\n",
      " \n",
      " welcomepython "
     ]
    }
   ],
   "source": [
    "## Acessing all content line by line\n",
    "def get_elements(file):\n",
    "    with open(\"data.txt\",'r') as file:\n",
    "        f=file.readlines()\n",
    "        print(f)\n",
    "        for i in f:\n",
    "            print(i,end=\" \")\n",
    "        \n",
    "file=\"data.txt\"\n",
    "get_elements(file)"
   ]
  },
  {
   "cell_type": "code",
   "execution_count": 28,
   "metadata": {},
   "outputs": [],
   "source": [
    "#Lines count=7\n",
    "#characters count=\n",
    "#words count=6\n"
   ]
  },
  {
   "cell_type": "code",
   "execution_count": 36,
   "metadata": {},
   "outputs": [
    {
     "name": "stdout",
     "output_type": "stream",
     "text": [
      "['apssdc mstp\\n', 'welcome\\n', '\\n', 'welcome\\n', 'python\\n', '\\n', 'welcomepython']\n",
      "7\n"
     ]
    }
   ],
   "source": [
    "#line count\n",
    "def linecount(filename):\n",
    "    c=0\n",
    "    with open(filename,'r') as f:\n",
    "        f1=f.readlines()\n",
    "        for i in f1:\n",
    "            c+=1\n",
    "        print(c)\n",
    "linecount(\"data.txt\")       \n",
    "        "
   ]
  },
  {
   "cell_type": "code",
   "execution_count": 31,
   "metadata": {},
   "outputs": [
    {
     "name": "stdout",
     "output_type": "stream",
     "text": [
      "50\n"
     ]
    }
   ],
   "source": [
    "#character count\n",
    "def linecount(filename):\n",
    "    c=0\n",
    "    with open(filename,'r') as f:\n",
    "        f1=f.read()\n",
    "        for i in f1:\n",
    "            c+=1\n",
    "        print(c)\n",
    "linecount(\"data.txt\") "
   ]
  },
  {
   "cell_type": "code",
   "execution_count": 35,
   "metadata": {},
   "outputs": [
    {
     "name": "stdout",
     "output_type": "stream",
     "text": [
      "6\n"
     ]
    }
   ],
   "source": [
    "def wordcount(filename):\n",
    "    c=0\n",
    "    with open(filename,'r') as f:\n",
    "        f1=f.read()\n",
    "        f2=f1.split()\n",
    "        print(len(f2))\n",
    "linecount(\"data.txt\")"
   ]
  },
  {
   "cell_type": "code",
   "execution_count": null,
   "metadata": {},
   "outputs": [],
   "source": []
  }
 ],
 "metadata": {
  "kernelspec": {
   "display_name": "Python 3",
   "language": "python",
   "name": "python3"
  },
  "language_info": {
   "codemirror_mode": {
    "name": "ipython",
    "version": 3
   },
   "file_extension": ".py",
   "mimetype": "text/x-python",
   "name": "python",
   "nbconvert_exporter": "python",
   "pygments_lexer": "ipython3",
   "version": "3.7.3"
  }
 },
 "nbformat": 4,
 "nbformat_minor": 2
}

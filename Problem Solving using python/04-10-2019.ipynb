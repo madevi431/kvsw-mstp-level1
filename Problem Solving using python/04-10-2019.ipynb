{
 "cells": [
  {
   "cell_type": "code",
   "execution_count": 1,
   "metadata": {},
   "outputs": [],
   "source": [
    "## File Modes\n",
    "#tell\n",
    "#seek\n",
    "#w+=write and read"
   ]
  },
  {
   "cell_type": "code",
   "execution_count": 3,
   "metadata": {},
   "outputs": [],
   "source": [
    "# create a file=file_operations.txt\n",
    "filepath=\"file_operations.txt\"\n",
    "def filewrite(filepath):\n",
    "    with open(filepath,'w') as f:\n",
    "        f.write(filepath)\n",
    "filewrite(filepath)"
   ]
  },
  {
   "cell_type": "code",
   "execution_count": 28,
   "metadata": {},
   "outputs": [],
   "source": [
    "filepath=\"file_operations.txt\"\n",
    "def filewrite(filepath,mode):\n",
    "    with open(filepath,'w') as f:\n",
    "        f.write(mode)\n",
    "        f.write(\"\\nPyprogram\")\n",
    "        \n",
    "filewrite(filepath,\"hello\\n\")        "
   ]
  },
  {
   "cell_type": "code",
   "execution_count": 50,
   "metadata": {},
   "outputs": [
    {
     "name": "stdout",
     "output_type": "stream",
     "text": [
      "hello\n",
      "Pyprogram\n",
      "15\n"
     ]
    }
   ],
   "source": [
    "f=open(\"file_operations.txt\",'r')\n",
    "f1=f.read(15)\n",
    "print(f1)\n",
    "print(f.tell())\n",
    "f2=f.seek(3)\n",
    "#print(f2)\n",
    "f.close()"
   ]
  },
  {
   "cell_type": "code",
   "execution_count": 56,
   "metadata": {},
   "outputs": [
    {
     "name": "stdout",
     "output_type": "stream",
     "text": [
      "hello\n",
      "Pyprogram\n",
      "\n",
      "\n"
     ]
    },
    {
     "data": {
      "text/plain": [
       "17"
      ]
     },
     "execution_count": 56,
     "metadata": {},
     "output_type": "execute_result"
    }
   ],
   "source": [
    "x=open(\"file_operations.txt\",'r')\n",
    "print(x.read())\n",
    "x.tell()"
   ]
  },
  {
   "cell_type": "code",
   "execution_count": 57,
   "metadata": {},
   "outputs": [
    {
     "name": "stdout",
     "output_type": "stream",
     "text": [
      "hello\n",
      "Pyprogram\n",
      "\n",
      "\n",
      "lo\n",
      "Pyprogram\n",
      "\n",
      "\n"
     ]
    }
   ],
   "source": [
    "x=open(\"file_operations.txt\",'r')\n",
    "print(x.read())\n",
    "x.seek(3)\n",
    "x.tell()\n",
    "print(x.read())\n"
   ]
  },
  {
   "cell_type": "code",
   "execution_count": 59,
   "metadata": {},
   "outputs": [
    {
     "name": "stdout",
     "output_type": "stream",
     "text": [
      "orld is good\n"
     ]
    }
   ],
   "source": [
    "filepath=\"file_operations.txt\"\n",
    "def writeread(filepath):\n",
    "    with open(filepath,'w+') as f:\n",
    "        f.write(\"world is good\")\n",
    "        f.seek(1)\n",
    "        f1=f.read()\n",
    "        print(f1)\n",
    "writeread(filepath)\n",
    "        "
   ]
  },
  {
   "cell_type": "code",
   "execution_count": 78,
   "metadata": {},
   "outputs": [
    {
     "name": "stdout",
     "output_type": "stream",
     "text": [
      "121\n",
      "palindrome\n"
     ]
    }
   ],
   "source": [
    "n=int(input())\n",
    "\n",
    "def numberpalindrom(n):\n",
    "    temp=n\n",
    "    rev=0\n",
    "    for i in range(n):\n",
    "        if(n!=0):\n",
    "        \n",
    "            a=n%10\n",
    "            rev=rev*10+a\n",
    "            n=n//10\n",
    "    if (rev==temp):\n",
    "        print(\"palindrome\")\n",
    "    else:\n",
    "        print(\"not palindrome\")\n",
    "numberpalindrom(n)       "
   ]
  },
  {
   "cell_type": "code",
   "execution_count": 80,
   "metadata": {},
   "outputs": [
    {
     "name": "stdout",
     "output_type": "stream",
     "text": [
      "madam\n",
      "palindrom\n"
     ]
    }
   ],
   "source": [
    "n=input()\n",
    "def numberpalindrom(n):\n",
    "    n1=n[::-1]\n",
    "    if(n1==n):\n",
    "        print(\"palindrom\")\n",
    "    else:\n",
    "        print(\"not a palindrom\")\n",
    "numberpalindrom(n)\n",
    "    \n"
   ]
  },
  {
   "cell_type": "code",
   "execution_count": null,
   "metadata": {},
   "outputs": [],
   "source": []
  },
  {
   "cell_type": "code",
   "execution_count": null,
   "metadata": {},
   "outputs": [],
   "source": []
  }
 ],
 "metadata": {
  "kernelspec": {
   "display_name": "Python 3",
   "language": "python",
   "name": "python3"
  },
  "language_info": {
   "codemirror_mode": {
    "name": "ipython",
    "version": 3
   },
   "file_extension": ".py",
   "mimetype": "text/x-python",
   "name": "python",
   "nbconvert_exporter": "python",
   "pygments_lexer": "ipython3",
   "version": "3.7.3"
  }
 },
 "nbformat": 4,
 "nbformat_minor": 2
}

{
 "cells": [
  {
   "cell_type": "markdown",
   "metadata": {},
   "source": [
    "## Handling csv files"
   ]
  },
  {
   "cell_type": "code",
   "execution_count": 1,
   "metadata": {},
   "outputs": [],
   "source": [
    "file=\"mstp.txt\"\n",
    "def name(file):\n",
    "    with open (file,'w') as f:\n",
    "        f.write(\"kvsw\"+\",\"+\"kvsr\"+\",\"+\"kvsm\")\n",
    "name(file)\n",
    "        \n",
    "    "
   ]
  },
  {
   "cell_type": "code",
   "execution_count": 4,
   "metadata": {},
   "outputs": [],
   "source": [
    "s=\"\\n,mcjdscbjcn\"\n",
    "with open(file,'a') as f:\n",
    "    f.write(s)"
   ]
  },
  {
   "cell_type": "code",
   "execution_count": 6,
   "metadata": {},
   "outputs": [
    {
     "name": "stdout",
     "output_type": "stream",
     "text": [
      "kvsw,kvsr,kvsmcse,ece,civil\n",
      "cse,ece,civil\n",
      ",mcjdscbjcn\n",
      "v\n"
     ]
    }
   ],
   "source": [
    "with open(file,'r') as f:\n",
    "    s=f.read()\n",
    "    print(s)\n"
   ]
  },
  {
   "cell_type": "code",
   "execution_count": 9,
   "metadata": {},
   "outputs": [
    {
     "name": "stdout",
     "output_type": "stream",
     "text": [
      "kvsw,kvsr,kvsmcse,ece,civil\n",
      "\n"
     ]
    }
   ],
   "source": [
    "with open(file,'r') as f:\n",
    "    s=f.readlines()\n",
    "    print(s[0])"
   ]
  },
  {
   "cell_type": "code",
   "execution_count": 22,
   "metadata": {},
   "outputs": [],
   "source": [
    "file=\"contacts.txt\"\n",
    "with open (file,\"w\") as f:\n",
    "    f.write(\"name\"+\",\"+\"9963674059\"+\",\"+\"kvswwomens@gmail.com\")\n",
    "    f.write(\"\\nname1\"+\",\"+\"9963674079\"+\",\"+\"kvswcoed@gmail.com\")"
   ]
  },
  {
   "cell_type": "code",
   "execution_count": 41,
   "metadata": {},
   "outputs": [
    {
     "name": "stdout",
     "output_type": "stream",
     "text": [
      "name,9963674059,kvswwomens@gmail.com\n",
      "name1,9963674079,kvswcoed@gmail.com\n"
     ]
    }
   ],
   "source": [
    "file=\"contacts.txt\"\n",
    "def csvtolist(file):\n",
    "    l=[]\n",
    "    with open(file,'r') as f:\n",
    "        for line in f:\n",
    "            l.append(line.split(\",\"))\n",
    "    return l\n",
    "        \n",
    "csvtolist(file)\n",
    "def listtocsv(file):\n",
    "    d=csvtolist(file)\n",
    "    s=\"\"\n",
    "    for i in d:\n",
    "        s+=\",\".join(i)\n",
    "    print(s)\n",
    "listtocsv(file)\n",
    "    \n",
    "\n",
    "\n",
    "        "
   ]
  },
  {
   "cell_type": "code",
   "execution_count": 53,
   "metadata": {},
   "outputs": [
    {
     "name": "stdout",
     "output_type": "stream",
     "text": [
      "contact already exixts\n"
     ]
    }
   ],
   "source": [
    "\n",
    "import re\n",
    "def phnovalidator(no):\n",
    "    pattern='[9876][0-9]{9}$|^[0][6-9][0-9]{9}$|^[+][9][1][6-9][0-9]{9}$'\n",
    "    if re.match(pattern,str(no)):\n",
    "        return True\n",
    "    else:\n",
    "        return False\n",
    "def emailval(email):\n",
    "    pattern='^[0-9a-z][0-9a-z_.]{4,13}[0-9a-z][@][0-9a-z]{3,18}[.][a-z]{2,4}$'\n",
    "    if re.match(pattern,email):\n",
    "    \n",
    "        return True\n",
    "    else:\n",
    "        return False\n",
    "def searchcontact(name,file):\n",
    "    s=csvtolist(file)\n",
    "    for i in s:\n",
    "        if i[0]==name:\n",
    "            return 1\n",
    "    return 0\n",
    "    \n",
    "searchcontact(\"nameeee\",\"contacts.txt\")\n",
    "def addcontact(name,no,email,file):\n",
    "    if searchcontact(name,file)==0:\n",
    "        if phnovalidator(no)==1:\n",
    "            print(\"phone no success\")\n",
    "            if emailval(email)==1:\n",
    "                print(\"email success\")\n",
    "                with open(file,'a') as f:\n",
    "                    f.write(\"\\n\"+name+\",\"+no+','+email)\n",
    "                    print(\"contact added successfully\")\n",
    "    else:\n",
    "        print(\"contact already exixts\")\n",
    "addcontact(\"cse\",\"9963452017\",\"kvswcse@gmail.com\",\"contacts.txt\")\n",
    "        \n",
    "\n",
    "    "
   ]
  },
  {
   "cell_type": "markdown",
   "metadata": {},
   "source": [
    "# Functional Programming"
   ]
  },
  {
   "cell_type": "code",
   "execution_count": 4,
   "metadata": {},
   "outputs": [],
   "source": [
    "#Ex procedure -c\n",
    "#scrpting -php,java,python,shell\n",
    "# Structured -Python java,scala"
   ]
  },
  {
   "cell_type": "markdown",
   "metadata": {},
   "source": [
    "# List or dictionariesor tuplesor Sets Comphrehension"
   ]
  },
  {
   "cell_type": "code",
   "execution_count": 7,
   "metadata": {},
   "outputs": [
    {
     "name": "stdout",
     "output_type": "stream",
     "text": [
      "5\n",
      "1 2 3 4 5 "
     ]
    }
   ],
   "source": [
    "# print n natural numbers\n",
    "n=int(input())\n",
    " i in range(1,n+1):\n",
    "    prifornt(i,end=\" \")"
   ]
  },
  {
   "cell_type": "code",
   "execution_count": 9,
   "metadata": {},
   "outputs": [],
   "source": [
    "#List comprehension\n",
    "#==>expression for list in item condition"
   ]
  },
  {
   "cell_type": "code",
   "execution_count": 10,
   "metadata": {},
   "outputs": [
    {
     "name": "stdout",
     "output_type": "stream",
     "text": [
      "5\n"
     ]
    },
    {
     "data": {
      "text/plain": [
       "[1, 2, 3, 4, 5]"
      ]
     },
     "execution_count": 10,
     "metadata": {},
     "output_type": "execute_result"
    }
   ],
   "source": [
    "n=int(input())\n",
    "li=[i for i in range(1,n+1)]\n",
    "li"
   ]
  },
  {
   "cell_type": "code",
   "execution_count": 13,
   "metadata": {},
   "outputs": [
    {
     "name": "stdout",
     "output_type": "stream",
     "text": [
      "<class 'str'>\n",
      "a\n",
      "p\n",
      "s\n",
      "s\n",
      "d\n",
      "c\n"
     ]
    }
   ],
   "source": [
    "x=\"apssdc\"\n",
    "print(type(x))\n",
    "for i in x:\n",
    "    print(i)"
   ]
  },
  {
   "cell_type": "code",
   "execution_count": 14,
   "metadata": {},
   "outputs": [
    {
     "data": {
      "text/plain": [
       "['a', 'p', 's', 's', 'd', 'c']"
      ]
     },
     "execution_count": 14,
     "metadata": {},
     "output_type": "execute_result"
    }
   ],
   "source": [
    "l=[s for s in x]\n",
    "l"
   ]
  },
  {
   "cell_type": "code",
   "execution_count": 15,
   "metadata": {},
   "outputs": [
    {
     "data": {
      "text/plain": [
       "'GOOGLE.COM'"
      ]
     },
     "execution_count": 15,
     "metadata": {},
     "output_type": "execute_result"
    }
   ],
   "source": [
    "s=\"google.com\"\n",
    "a=s.upper()\n",
    "a"
   ]
  },
  {
   "cell_type": "code",
   "execution_count": 21,
   "metadata": {},
   "outputs": [
    {
     "data": {
      "text/plain": [
       "['G', 'O', 'O', 'G', 'L', 'E', '.', 'C', 'O', 'M']"
      ]
     },
     "execution_count": 21,
     "metadata": {},
     "output_type": "execute_result"
    }
   ],
   "source": [
    "f=[i.upper() for i in s]\n",
    "f"
   ]
  },
  {
   "cell_type": "code",
   "execution_count": 23,
   "metadata": {},
   "outputs": [
    {
     "name": "stdout",
     "output_type": "stream",
     "text": [
      "1 2 3 "
     ]
    }
   ],
   "source": [
    "x=\"123asd\"\n",
    "for i in x:\n",
    "    if i.isdigit():\n",
    "        print(i,end=\" \")"
   ]
  },
  {
   "cell_type": "code",
   "execution_count": 24,
   "metadata": {},
   "outputs": [
    {
     "name": "stdout",
     "output_type": "stream",
     "text": [
      "a s d "
     ]
    }
   ],
   "source": [
    "for i in x:\n",
    "    if i.isalpha():\n",
    "        print(i,end=\" \")"
   ]
  },
  {
   "cell_type": "code",
   "execution_count": 27,
   "metadata": {},
   "outputs": [
    {
     "name": "stdout",
     "output_type": "stream",
     "text": [
      "['a', 's', 'd']\n",
      "['1', '2', '3']\n"
     ]
    }
   ],
   "source": [
    "ls=[n for n in x if n.isalpha()]\n",
    "l=[n for n in x if n.isdigit()]\n",
    "print(ls)\n",
    "print(l)"
   ]
  },
  {
   "cell_type": "code",
   "execution_count": 28,
   "metadata": {},
   "outputs": [],
   "source": [
    "# print the first 10 numbers sqrt values in a list"
   ]
  },
  {
   "cell_type": "code",
   "execution_count": 30,
   "metadata": {},
   "outputs": [
    {
     "name": "stdout",
     "output_type": "stream",
     "text": [
      "5\n"
     ]
    },
    {
     "data": {
      "text/plain": [
       "[1.0, 1.4142135623730951, 1.7320508075688772, 2.0, 2.23606797749979]"
      ]
     },
     "execution_count": 30,
     "metadata": {},
     "output_type": "execute_result"
    }
   ],
   "source": [
    "n=int(input())\n",
    "s=[i**0.5 for i in range(1,n+1)]\n",
    "s"
   ]
  },
  {
   "cell_type": "code",
   "execution_count": 31,
   "metadata": {},
   "outputs": [
    {
     "data": {
      "text/plain": [
       "[1.0, 1.4142135623730951, 1.7320508075688772, 2.0, 2.23606797749979]"
      ]
     },
     "execution_count": 31,
     "metadata": {},
     "output_type": "execute_result"
    }
   ],
   "source": [
    "import math\n",
    "n=5\n",
    "l=[]\n",
    "for i in range(1,n+1):\n",
    "    l.append(math.sqrt(i))\n",
    "l"
   ]
  },
  {
   "cell_type": "code",
   "execution_count": 33,
   "metadata": {},
   "outputs": [
    {
     "data": {
      "text/plain": [
       "[1.0,\n",
       " 1.4142135623730951,\n",
       " 1.7320508075688772,\n",
       " 2.0,\n",
       " 2.23606797749979,\n",
       " 2.449489742783178,\n",
       " 2.6457513110645907,\n",
       " 2.8284271247461903,\n",
       " 3.0,\n",
       " 3.1622776601683795]"
      ]
     },
     "execution_count": 33,
     "metadata": {},
     "output_type": "execute_result"
    }
   ],
   "source": [
    "li=[math.sqrt(n) for n in range(1,11)]\n",
    "li"
   ]
  },
  {
   "cell_type": "code",
   "execution_count": 36,
   "metadata": {},
   "outputs": [
    {
     "name": "stdout",
     "output_type": "stream",
     "text": [
      "21\n",
      "42\n",
      "63\n",
      "84\n",
      "105\n",
      "126\n",
      "147\n",
      "168\n",
      "189\n",
      "22\n",
      "44\n",
      "66\n",
      "88\n",
      "110\n",
      "132\n",
      "154\n",
      "176\n",
      "198\n",
      "23\n",
      "46\n",
      "69\n",
      "92\n",
      "115\n",
      "138\n",
      "161\n",
      "184\n",
      "207\n",
      "24\n",
      "48\n",
      "72\n",
      "96\n",
      "120\n",
      "144\n",
      "168\n",
      "192\n",
      "216\n",
      "25\n",
      "50\n",
      "75\n",
      "100\n",
      "125\n",
      "150\n",
      "175\n",
      "200\n",
      "225\n",
      "26\n",
      "52\n",
      "78\n",
      "104\n",
      "130\n",
      "156\n",
      "182\n",
      "208\n",
      "234\n",
      "27\n",
      "54\n",
      "81\n",
      "108\n",
      "135\n",
      "162\n",
      "189\n",
      "216\n",
      "243\n",
      "28\n",
      "56\n",
      "84\n",
      "112\n",
      "140\n",
      "168\n",
      "196\n",
      "224\n",
      "252\n",
      "29\n",
      "58\n",
      "87\n",
      "116\n",
      "145\n",
      "174\n",
      "203\n",
      "232\n",
      "261\n",
      "30\n",
      "60\n",
      "90\n",
      "120\n",
      "150\n",
      "180\n",
      "210\n",
      "240\n",
      "270\n"
     ]
    }
   ],
   "source": [
    "#double of value\n",
    "for i in range(21,31):\n",
    "    for j in range(1,10):\n",
    "        print(i*j)\n",
    "        \n",
    "    "
   ]
  },
  {
   "cell_type": "code",
   "execution_count": 40,
   "metadata": {},
   "outputs": [
    {
     "data": {
      "text/plain": [
       "[441, 484, 529, 576, 625, 676, 729, 784, 841, 900]"
      ]
     },
     "execution_count": 40,
     "metadata": {},
     "output_type": "execute_result"
    }
   ],
   "source": [
    "k=[i*i for i in range(21,31)] #doble of anumber\n",
    "k"
   ]
  },
  {
   "cell_type": "code",
   "execution_count": 44,
   "metadata": {},
   "outputs": [
    {
     "data": {
      "text/plain": [
       "[1, 8, 27, 64]"
      ]
     },
     "execution_count": 44,
     "metadata": {},
     "output_type": "execute_result"
    }
   ],
   "source": [
    "l=[i**3 for i in range(1,5)]# cubes \n",
    "l"
   ]
  },
  {
   "cell_type": "code",
   "execution_count": 71,
   "metadata": {},
   "outputs": [
    {
     "name": "stdout",
     "output_type": "stream",
     "text": [
      "[1, 2, 6, 24, 120]\n"
     ]
    }
   ],
   "source": [
    "#function to find out factorial of a number\n",
    "def fact(n):\n",
    "    l=[]\n",
    "    f=1\n",
    "    for i in range(1,n+1):\n",
    "        f=f*i\n",
    "        l.append(f)\n",
    "    print(l)\n",
    "fact(5)"
   ]
  },
  {
   "cell_type": "code",
   "execution_count": 72,
   "metadata": {},
   "outputs": [
    {
     "name": "stdout",
     "output_type": "stream",
     "text": [
      "[]\n",
      "[1]\n",
      "[1, 2]\n",
      "[1, 2, 6]\n",
      "[1, 2, 6, 24]\n"
     ]
    }
   ],
   "source": [
    "l_s=[fact(i) for i in range(5)]"
   ]
  },
  {
   "cell_type": "code",
   "execution_count": 74,
   "metadata": {},
   "outputs": [
    {
     "name": "stdout",
     "output_type": "stream",
     "text": [
      "odd 11\n",
      "even  12\n",
      "odd 13\n",
      "even  14\n",
      "odd 15\n",
      "even  16\n",
      "odd 17\n",
      "even  18\n",
      "odd 19\n",
      "even  20\n"
     ]
    }
   ],
   "source": [
    "# even odd \n",
    "for i in range(11,21):\n",
    "    if i%2==0:\n",
    "        print(\"even \",i)\n",
    "    if i%2!=0:\n",
    "        print(\"odd\",i)"
   ]
  },
  {
   "cell_type": "code",
   "execution_count": 78,
   "metadata": {},
   "outputs": [
    {
     "name": "stdout",
     "output_type": "stream",
     "text": [
      "[12, 14, 16, 18, 20]\n",
      "[11, 13, 15, 17, 19]\n"
     ]
    }
   ],
   "source": [
    "even_list=[i for i in range(11,21) if i%2==0]\n",
    "odd_list=[i for i in range(11,21) if i%2!=0]\n",
    "print(even_list)\n",
    "print(odd_list)"
   ]
  },
  {
   "cell_type": "code",
   "execution_count": 84,
   "metadata": {},
   "outputs": [
    {
     "name": "stdout",
     "output_type": "stream",
     "text": [
      "['odd', 'even', 'odd', 'even', 'odd', 'even', 'odd', 'even', 'odd', 'even']\n",
      "[11, 12, 13, 14, 15, 16, 17, 18, 19, 20]\n"
     ]
    }
   ],
   "source": [
    "h=[\"even\" if i%2==0 else \"odd\"  for i in range(11,21)]\n",
    "h1=[i if i%2==0 else i  for i in range(11,21)]\n",
    "print(h)\n",
    "print(h1)"
   ]
  },
  {
   "cell_type": "code",
   "execution_count": 86,
   "metadata": {},
   "outputs": [
    {
     "data": {
      "text/plain": [
       "[10, 20]"
      ]
     },
     "execution_count": 86,
     "metadata": {},
     "output_type": "execute_result"
    }
   ],
   "source": [
    "q_l=[i for i in range(1,20+1) if i%2==0 if i%5==0]\n",
    "q_l"
   ]
  },
  {
   "cell_type": "code",
   "execution_count": 87,
   "metadata": {},
   "outputs": [
    {
     "name": "stdout",
     "output_type": "stream",
     "text": [
      "leap years :  [2000, 2004, 2008, 2012, 2016, 2020]\n"
     ]
    }
   ],
   "source": [
    "#leap years from 2000-2020\n",
    "x=[i for i in range(2000,2021) if i%4==0 and i%100!=0 or i%400==0]\n",
    "print(\"leap years : \",x)"
   ]
  },
  {
   "cell_type": "markdown",
   "metadata": {},
   "source": [
    "# Lambda"
   ]
  },
  {
   "cell_type": "code",
   "execution_count": 89,
   "metadata": {},
   "outputs": [
    {
     "name": "stdout",
     "output_type": "stream",
     "text": [
      "16\n"
     ]
    }
   ],
   "source": [
    "#anonymous function\n",
    "# syntax----> lambda arguments:expression\n",
    "def square(n):\n",
    "    n**2\n",
    "square(3)\n",
    "d=lambda n:n**2\n",
    "print(d(4))\n"
   ]
  },
  {
   "cell_type": "code",
   "execution_count": 91,
   "metadata": {},
   "outputs": [
    {
     "name": "stdout",
     "output_type": "stream",
     "text": [
      "125\n"
     ]
    }
   ],
   "source": [
    "s=lambda c:c**3\n",
    "print(s(5))"
   ]
  },
  {
   "cell_type": "code",
   "execution_count": 92,
   "metadata": {},
   "outputs": [
    {
     "name": "stdout",
     "output_type": "stream",
     "text": [
      "[1, 4, 9, 16, 25]\n"
     ]
    }
   ],
   "source": [
    "l=[1,2,3,4,5]\n",
    "l1=[]\n",
    "for j in range(len(l)):\n",
    "    a=l[j]**2\n",
    "    l1.append(a)\n",
    "print(l1)\n",
    "    "
   ]
  },
  {
   "cell_type": "code",
   "execution_count": 95,
   "metadata": {},
   "outputs": [
    {
     "data": {
      "text/plain": [
       "[1, 4, 9, 16, 25]"
      ]
     },
     "execution_count": 95,
     "metadata": {},
     "output_type": "execute_result"
    }
   ],
   "source": [
    "a=[l[i]**2 for i in  range(len(l))]\n",
    "a"
   ]
  },
  {
   "cell_type": "markdown",
   "metadata": {},
   "source": [
    "# iterators "
   ]
  },
  {
   "cell_type": "code",
   "execution_count": 96,
   "metadata": {},
   "outputs": [
    {
     "name": "stdout",
     "output_type": "stream",
     "text": [
      "1\n",
      "2\n",
      "4\n",
      "5\n",
      "6\n"
     ]
    }
   ],
   "source": [
    "l=[1,2,4,5,6]\n",
    "for i in l:\n",
    "    print(i)"
   ]
  },
  {
   "cell_type": "code",
   "execution_count": 102,
   "metadata": {},
   "outputs": [
    {
     "name": "stdout",
     "output_type": "stream",
     "text": [
      "1\n",
      "2\n",
      "4\n",
      "5\n",
      "6\n"
     ]
    },
    {
     "ename": "StopIteration",
     "evalue": "",
     "output_type": "error",
     "traceback": [
      "\u001b[1;31m---------------------------------------------------------------------------\u001b[0m",
      "\u001b[1;31mStopIteration\u001b[0m                             Traceback (most recent call last)",
      "\u001b[1;32m<ipython-input-102-ee999e21c431>\u001b[0m in \u001b[0;36m<module>\u001b[1;34m\u001b[0m\n\u001b[0;32m      6\u001b[0m \u001b[0mprint\u001b[0m\u001b[1;33m(\u001b[0m\u001b[0mnext\u001b[0m\u001b[1;33m(\u001b[0m\u001b[0ma\u001b[0m\u001b[1;33m)\u001b[0m\u001b[1;33m)\u001b[0m\u001b[1;33m\u001b[0m\u001b[1;33m\u001b[0m\u001b[0m\n\u001b[0;32m      7\u001b[0m \u001b[0mprint\u001b[0m\u001b[1;33m(\u001b[0m\u001b[0mnext\u001b[0m\u001b[1;33m(\u001b[0m\u001b[0ma\u001b[0m\u001b[1;33m)\u001b[0m\u001b[1;33m)\u001b[0m\u001b[1;33m\u001b[0m\u001b[1;33m\u001b[0m\u001b[0m\n\u001b[1;32m----> 8\u001b[1;33m \u001b[0mprint\u001b[0m\u001b[1;33m(\u001b[0m\u001b[0mnext\u001b[0m\u001b[1;33m(\u001b[0m\u001b[0ma\u001b[0m\u001b[1;33m)\u001b[0m\u001b[1;33m)\u001b[0m\u001b[1;33m\u001b[0m\u001b[1;33m\u001b[0m\u001b[0m\n\u001b[0m",
      "\u001b[1;31mStopIteration\u001b[0m: "
     ]
    }
   ],
   "source": [
    "#iter(),next()\n",
    "a=iter(l)\n",
    "print(next(a))\n",
    "print(next(a))\n",
    "print(next(a))\n",
    "print(next(a))\n",
    "print(next(a))\n",
    "print(next(a))"
   ]
  },
  {
   "cell_type": "markdown",
   "metadata": {},
   "source": [
    "# Generators"
   ]
  },
  {
   "cell_type": "code",
   "execution_count": 117,
   "metadata": {},
   "outputs": [
    {
     "name": "stdout",
     "output_type": "stream",
     "text": [
      "5\n",
      "7\n",
      "5\n",
      "7\n"
     ]
    }
   ],
   "source": [
    "#yield,next\n",
    "def add(a,b):\n",
    "    c=a+b\n",
    "    yield c\n",
    "    a+=1\n",
    "    b+=1\n",
    "    c=a+b\n",
    "    yield c\n",
    "d=add(2,3)\n",
    "print(next(d))\n",
    "print(next(d))\n",
    "for i in add(2,3):\n",
    "    print(i)\n"
   ]
  },
  {
   "cell_type": "markdown",
   "metadata": {},
   "source": [
    "# map\n"
   ]
  },
  {
   "cell_type": "code",
   "execution_count": 119,
   "metadata": {},
   "outputs": [
    {
     "name": "stdout",
     "output_type": "stream",
     "text": [
      "[1, 4, 9, 16, 25]\n"
     ]
    }
   ],
   "source": [
    "#syntax---map(fun,iterbale)\n",
    "def square(n):\n",
    "    return n**2\n",
    "l=[1,2,3,4,5]\n",
    "print(list(map(square,l)))\n"
   ]
  },
  {
   "cell_type": "code",
   "execution_count": 120,
   "metadata": {},
   "outputs": [
    {
     "name": "stdout",
     "output_type": "stream",
     "text": [
      "[1, 4, 9, 16]\n"
     ]
    }
   ],
   "source": [
    "l=[1,2,3,4]\n",
    "print(list(map(lambda x:x**2,l)))\n"
   ]
  },
  {
   "cell_type": "code",
   "execution_count": 121,
   "metadata": {},
   "outputs": [
    {
     "name": "stdout",
     "output_type": "stream",
     "text": [
      "[5, 7, 9]\n"
     ]
    }
   ],
   "source": [
    "#addition of two numbers\n",
    "t=(1,2,3)\n",
    "t1=(4,5,6)\n",
    "a=map(lambda a,b:a+b,t,t1)\n",
    "print(list(a))\n",
    "\n",
    "\n"
   ]
  },
  {
   "cell_type": "markdown",
   "metadata": {},
   "source": [
    "# filter"
   ]
  },
  {
   "cell_type": "code",
   "execution_count": 122,
   "metadata": {},
   "outputs": [
    {
     "data": {
      "text/plain": [
       "[2, 4, 6, 8]"
      ]
     },
     "execution_count": 122,
     "metadata": {},
     "output_type": "execute_result"
    }
   ],
   "source": [
    "#filter(fun,iterable)\n",
    "l=[1,2,3,4,5,6,7,8]\n",
    "a=list(filter(lambda x:x%2==0,l))\n",
    "a"
   ]
  },
  {
   "cell_type": "code",
   "execution_count": 131,
   "metadata": {},
   "outputs": [
    {
     "data": {
      "text/plain": [
       "[1, 2, 3]"
      ]
     },
     "execution_count": 131,
     "metadata": {},
     "output_type": "execute_result"
    }
   ],
   "source": [
    "l=[1,2,3,'a','b']\n",
    "l1=[]\n",
    "for i in l:\n",
    "    if str(i).isdigit():\n",
    "        l1.append(i)\n",
    "\n",
    "def digit(n):\n",
    "    if str(n).isdigit():\n",
    "            return True\n",
    "    return False\n",
    "a=list(filter(digit,l))\n",
    "a"
   ]
  },
  {
   "cell_type": "code",
   "execution_count": 133,
   "metadata": {},
   "outputs": [
    {
     "data": {
      "text/plain": [
       "[0, 1, 2, 3, 4, 5, 6, 7, 8, 9]"
      ]
     },
     "execution_count": 133,
     "metadata": {},
     "output_type": "execute_result"
    }
   ],
   "source": [
    "l=list(range(10))\n",
    "l"
   ]
  },
  {
   "cell_type": "code",
   "execution_count": 134,
   "metadata": {},
   "outputs": [
    {
     "name": "stdout",
     "output_type": "stream",
     "text": [
      "[2, 3, 5, 7]\n"
     ]
    }
   ],
   "source": [
    "def prime(n):\n",
    "    fact=0\n",
    "    for i in range(1,n+1):\n",
    "        if n%i==0:\n",
    "            fact=fact+1\n",
    "    if fact==2:\n",
    "        return 1\n",
    "    return 0\n",
    "print(list(filter(prime,l)))\n",
    "    "
   ]
  },
  {
   "cell_type": "code",
   "execution_count": null,
   "metadata": {},
   "outputs": [],
   "source": []
  }
 ],
 "metadata": {
  "kernelspec": {
   "display_name": "Python 3",
   "language": "python",
   "name": "python3"
  },
  "language_info": {
   "codemirror_mode": {
    "name": "ipython",
    "version": 3
   },
   "file_extension": ".py",
   "mimetype": "text/x-python",
   "name": "python",
   "nbconvert_exporter": "python",
   "pygments_lexer": "ipython3",
   "version": "3.7.3"
  }
 },
 "nbformat": 4,
 "nbformat_minor": 2
}

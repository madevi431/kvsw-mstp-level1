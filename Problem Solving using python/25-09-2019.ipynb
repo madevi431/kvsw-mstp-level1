{
 "cells": [
  {
   "cell_type": "code",
   "execution_count": 1,
   "metadata": {},
   "outputs": [
    {
     "name": "stdout",
     "output_type": "stream",
     "text": [
      "20\n",
      "60\n",
      "40\n",
      "oldest 60\n",
      "young 20\n"
     ]
    }
   ],
   "source": [
    "ram=int(input())\n",
    "sam=int(input())\n",
    "mam=int(input())\n",
    "if ram>sam and ram >mam:\n",
    "    oldest=ram\n",
    "elif sam>ram and sam>mam:\n",
    "    oldest=sam\n",
    "else:\n",
    "    oldest=mam\n",
    "if ram<sam and ram <mam:\n",
    "    young=ram\n",
    "elif sam<ram and sam<mam:\n",
    "    young=sam\n",
    "else:\n",
    "    young=mam\n",
    "\n",
    "print(\"oldest\",oldest)\n",
    "print(\"young\",young)"
   ]
  },
  {
   "cell_type": "code",
   "execution_count": 8,
   "metadata": {},
   "outputs": [
    {
     "name": "stdout",
     "output_type": "stream",
     "text": [
      "20\n",
      "30\n",
      "23,29,"
     ]
    }
   ],
   "source": [
    "#Function to print all the prime numbers in a given range\n",
    "def prime(lb):\n",
    "    count=0\n",
    "    for i in range(1,lb+1):\n",
    "        if lb%i==0:\n",
    "            count=count+1\n",
    "    if count==2:\n",
    "        return 1\n",
    "    else:\n",
    "        return 0\n",
    "lb=int(input())   \n",
    "ub=int(input())\n",
    "for j in range(lb,ub+1):\n",
    "    if prime(j)==1:\n",
    "        print(j,end=\" \")\n",
    "        \n",
    "    \n"
   ]
  },
  {
   "cell_type": "markdown",
   "metadata": {},
   "source": [
    "### for i in range(0,20):\n",
    "    print(i)"
   ]
  }
 ],
 "metadata": {
  "kernelspec": {
   "display_name": "Python 3",
   "language": "python",
   "name": "python3"
  },
  "language_info": {
   "codemirror_mode": {
    "name": "ipython",
    "version": 3
   },
   "file_extension": ".py",
   "mimetype": "text/x-python",
   "name": "python",
   "nbconvert_exporter": "python",
   "pygments_lexer": "ipython3",
   "version": "3.7.3"
  }
 },
 "nbformat": 4,
 "nbformat_minor": 2
}

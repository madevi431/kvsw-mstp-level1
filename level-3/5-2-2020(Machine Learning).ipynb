{
 "cells": [
  {
   "cell_type": "code",
   "execution_count": 1,
   "metadata": {},
   "outputs": [],
   "source": [
    "import pandas as pd\n",
    "import numpy as np\n",
    "import matplotlib.pyplot as plt"
   ]
  },
  {
   "cell_type": "code",
   "execution_count": 2,
   "metadata": {},
   "outputs": [
    {
     "data": {
      "text/html": [
       "<div>\n",
       "<style scoped>\n",
       "    .dataframe tbody tr th:only-of-type {\n",
       "        vertical-align: middle;\n",
       "    }\n",
       "\n",
       "    .dataframe tbody tr th {\n",
       "        vertical-align: top;\n",
       "    }\n",
       "\n",
       "    .dataframe thead th {\n",
       "        text-align: right;\n",
       "    }\n",
       "</style>\n",
       "<table border=\"1\" class=\"dataframe\">\n",
       "  <thead>\n",
       "    <tr style=\"text-align: right;\">\n",
       "      <th></th>\n",
       "      <th>Unnamed: 0</th>\n",
       "      <th>TV</th>\n",
       "      <th>radio</th>\n",
       "      <th>newspaper</th>\n",
       "      <th>sales</th>\n",
       "    </tr>\n",
       "  </thead>\n",
       "  <tbody>\n",
       "    <tr>\n",
       "      <th>195</th>\n",
       "      <td>196</td>\n",
       "      <td>38.2</td>\n",
       "      <td>3.7</td>\n",
       "      <td>13.8</td>\n",
       "      <td>7.6</td>\n",
       "    </tr>\n",
       "    <tr>\n",
       "      <th>196</th>\n",
       "      <td>197</td>\n",
       "      <td>94.2</td>\n",
       "      <td>4.9</td>\n",
       "      <td>8.1</td>\n",
       "      <td>9.7</td>\n",
       "    </tr>\n",
       "    <tr>\n",
       "      <th>197</th>\n",
       "      <td>198</td>\n",
       "      <td>177.0</td>\n",
       "      <td>9.3</td>\n",
       "      <td>6.4</td>\n",
       "      <td>12.8</td>\n",
       "    </tr>\n",
       "    <tr>\n",
       "      <th>198</th>\n",
       "      <td>199</td>\n",
       "      <td>283.6</td>\n",
       "      <td>42.0</td>\n",
       "      <td>66.2</td>\n",
       "      <td>25.5</td>\n",
       "    </tr>\n",
       "    <tr>\n",
       "      <th>199</th>\n",
       "      <td>200</td>\n",
       "      <td>232.1</td>\n",
       "      <td>8.6</td>\n",
       "      <td>8.7</td>\n",
       "      <td>13.4</td>\n",
       "    </tr>\n",
       "  </tbody>\n",
       "</table>\n",
       "</div>"
      ],
      "text/plain": [
       "     Unnamed: 0     TV  radio  newspaper  sales\n",
       "195         196   38.2    3.7       13.8    7.6\n",
       "196         197   94.2    4.9        8.1    9.7\n",
       "197         198  177.0    9.3        6.4   12.8\n",
       "198         199  283.6   42.0       66.2   25.5\n",
       "199         200  232.1    8.6        8.7   13.4"
      ]
     },
     "execution_count": 2,
     "metadata": {},
     "output_type": "execute_result"
    }
   ],
   "source": [
    "#READING THE DATA\n",
    "data=pd.read_csv(\"Advertising.csv\")\n",
    "data.tail()"
   ]
  },
  {
   "cell_type": "code",
   "execution_count": 3,
   "metadata": {},
   "outputs": [
    {
     "data": {
      "text/html": [
       "<div>\n",
       "<style scoped>\n",
       "    .dataframe tbody tr th:only-of-type {\n",
       "        vertical-align: middle;\n",
       "    }\n",
       "\n",
       "    .dataframe tbody tr th {\n",
       "        vertical-align: top;\n",
       "    }\n",
       "\n",
       "    .dataframe thead th {\n",
       "        text-align: right;\n",
       "    }\n",
       "</style>\n",
       "<table border=\"1\" class=\"dataframe\">\n",
       "  <thead>\n",
       "    <tr style=\"text-align: right;\">\n",
       "      <th></th>\n",
       "      <th>TV</th>\n",
       "      <th>radio</th>\n",
       "      <th>newspaper</th>\n",
       "      <th>sales</th>\n",
       "    </tr>\n",
       "  </thead>\n",
       "  <tbody>\n",
       "    <tr>\n",
       "      <th>195</th>\n",
       "      <td>38.2</td>\n",
       "      <td>3.7</td>\n",
       "      <td>13.8</td>\n",
       "      <td>7.6</td>\n",
       "    </tr>\n",
       "    <tr>\n",
       "      <th>196</th>\n",
       "      <td>94.2</td>\n",
       "      <td>4.9</td>\n",
       "      <td>8.1</td>\n",
       "      <td>9.7</td>\n",
       "    </tr>\n",
       "    <tr>\n",
       "      <th>197</th>\n",
       "      <td>177.0</td>\n",
       "      <td>9.3</td>\n",
       "      <td>6.4</td>\n",
       "      <td>12.8</td>\n",
       "    </tr>\n",
       "    <tr>\n",
       "      <th>198</th>\n",
       "      <td>283.6</td>\n",
       "      <td>42.0</td>\n",
       "      <td>66.2</td>\n",
       "      <td>25.5</td>\n",
       "    </tr>\n",
       "    <tr>\n",
       "      <th>199</th>\n",
       "      <td>232.1</td>\n",
       "      <td>8.6</td>\n",
       "      <td>8.7</td>\n",
       "      <td>13.4</td>\n",
       "    </tr>\n",
       "  </tbody>\n",
       "</table>\n",
       "</div>"
      ],
      "text/plain": [
       "        TV  radio  newspaper  sales\n",
       "195   38.2    3.7       13.8    7.6\n",
       "196   94.2    4.9        8.1    9.7\n",
       "197  177.0    9.3        6.4   12.8\n",
       "198  283.6   42.0       66.2   25.5\n",
       "199  232.1    8.6        8.7   13.4"
      ]
     },
     "execution_count": 3,
     "metadata": {},
     "output_type": "execute_result"
    }
   ],
   "source": [
    "data.drop(\"Unnamed: 0\",axis=1,inplace=True)\n",
    "data.tail()"
   ]
  },
  {
   "cell_type": "code",
   "execution_count": 4,
   "metadata": {},
   "outputs": [
    {
     "name": "stdout",
     "output_type": "stream",
     "text": [
      "(200,)\n"
     ]
    },
    {
     "data": {
      "text/plain": [
       "array([230.1,  44.5,  17.2, 151.5, 180.8,   8.7,  57.5, 120.2,   8.6,\n",
       "       199.8,  66.1, 214.7,  23.8,  97.5, 204.1, 195.4,  67.8, 281.4,\n",
       "        69.2, 147.3, 218.4, 237.4,  13.2, 228.3,  62.3, 262.9, 142.9,\n",
       "       240.1, 248.8,  70.6, 292.9, 112.9,  97.2, 265.6,  95.7, 290.7,\n",
       "       266.9,  74.7,  43.1, 228. , 202.5, 177. , 293.6, 206.9,  25.1,\n",
       "       175.1,  89.7, 239.9, 227.2,  66.9, 199.8, 100.4, 216.4, 182.6,\n",
       "       262.7, 198.9,   7.3, 136.2, 210.8, 210.7,  53.5, 261.3, 239.3,\n",
       "       102.7, 131.1,  69. ,  31.5, 139.3, 237.4, 216.8, 199.1, 109.8,\n",
       "        26.8, 129.4, 213.4,  16.9,  27.5, 120.5,   5.4, 116. ,  76.4,\n",
       "       239.8,  75.3,  68.4, 213.5, 193.2,  76.3, 110.7,  88.3, 109.8,\n",
       "       134.3,  28.6, 217.7, 250.9, 107.4, 163.3, 197.6, 184.9, 289.7,\n",
       "       135.2, 222.4, 296.4, 280.2, 187.9, 238.2, 137.9,  25. ,  90.4,\n",
       "        13.1, 255.4, 225.8, 241.7, 175.7, 209.6,  78.2,  75.1, 139.2,\n",
       "        76.4, 125.7,  19.4, 141.3,  18.8, 224. , 123.1, 229.5,  87.2,\n",
       "         7.8,  80.2, 220.3,  59.6,   0.7, 265.2,   8.4, 219.8,  36.9,\n",
       "        48.3,  25.6, 273.7,  43. , 184.9,  73.4, 193.7, 220.5, 104.6,\n",
       "        96.2, 140.3, 240.1, 243.2,  38. ,  44.7, 280.7, 121. , 197.6,\n",
       "       171.3, 187.8,   4.1,  93.9, 149.8,  11.7, 131.7, 172.5,  85.7,\n",
       "       188.4, 163.5, 117.2, 234.5,  17.9, 206.8, 215.4, 284.3,  50. ,\n",
       "       164.5,  19.6, 168.4, 222.4, 276.9, 248.4, 170.2, 276.7, 165.6,\n",
       "       156.6, 218.5,  56.2, 287.6, 253.8, 205. , 139.5, 191.1, 286. ,\n",
       "        18.7,  39.5,  75.5,  17.2, 166.8, 149.7,  38.2,  94.2, 177. ,\n",
       "       283.6, 232.1])"
      ]
     },
     "execution_count": 4,
     "metadata": {},
     "output_type": "execute_result"
    }
   ],
   "source": [
    "x=data[\"TV\"].values\n",
    "print(x.shape)\n",
    "x"
   ]
  },
  {
   "cell_type": "code",
   "execution_count": 5,
   "metadata": {},
   "outputs": [
    {
     "name": "stdout",
     "output_type": "stream",
     "text": [
      "(200,)\n"
     ]
    },
    {
     "data": {
      "text/plain": [
       "array([22.1, 10.4,  9.3, 18.5, 12.9,  7.2, 11.8, 13.2,  4.8, 10.6,  8.6,\n",
       "       17.4,  9.2,  9.7, 19. , 22.4, 12.5, 24.4, 11.3, 14.6, 18. , 12.5,\n",
       "        5.6, 15.5,  9.7, 12. , 15. , 15.9, 18.9, 10.5, 21.4, 11.9,  9.6,\n",
       "       17.4,  9.5, 12.8, 25.4, 14.7, 10.1, 21.5, 16.6, 17.1, 20.7, 12.9,\n",
       "        8.5, 14.9, 10.6, 23.2, 14.8,  9.7, 11.4, 10.7, 22.6, 21.2, 20.2,\n",
       "       23.7,  5.5, 13.2, 23.8, 18.4,  8.1, 24.2, 15.7, 14. , 18. ,  9.3,\n",
       "        9.5, 13.4, 18.9, 22.3, 18.3, 12.4,  8.8, 11. , 17. ,  8.7,  6.9,\n",
       "       14.2,  5.3, 11. , 11.8, 12.3, 11.3, 13.6, 21.7, 15.2, 12. , 16. ,\n",
       "       12.9, 16.7, 11.2,  7.3, 19.4, 22.2, 11.5, 16.9, 11.7, 15.5, 25.4,\n",
       "       17.2, 11.7, 23.8, 14.8, 14.7, 20.7, 19.2,  7.2,  8.7,  5.3, 19.8,\n",
       "       13.4, 21.8, 14.1, 15.9, 14.6, 12.6, 12.2,  9.4, 15.9,  6.6, 15.5,\n",
       "        7. , 11.6, 15.2, 19.7, 10.6,  6.6,  8.8, 24.7,  9.7,  1.6, 12.7,\n",
       "        5.7, 19.6, 10.8, 11.6,  9.5, 20.8,  9.6, 20.7, 10.9, 19.2, 20.1,\n",
       "       10.4, 11.4, 10.3, 13.2, 25.4, 10.9, 10.1, 16.1, 11.6, 16.6, 19. ,\n",
       "       15.6,  3.2, 15.3, 10.1,  7.3, 12.9, 14.4, 13.3, 14.9, 18. , 11.9,\n",
       "       11.9,  8. , 12.2, 17.1, 15. ,  8.4, 14.5,  7.6, 11.7, 11.5, 27. ,\n",
       "       20.2, 11.7, 11.8, 12.6, 10.5, 12.2,  8.7, 26.2, 17.6, 22.6, 10.3,\n",
       "       17.3, 15.9,  6.7, 10.8,  9.9,  5.9, 19.6, 17.3,  7.6,  9.7, 12.8,\n",
       "       25.5, 13.4])"
      ]
     },
     "execution_count": 5,
     "metadata": {},
     "output_type": "execute_result"
    }
   ],
   "source": [
    "y=data[\"sales\"].values\n",
    "print(y.shape)\n",
    "y"
   ]
  },
  {
   "cell_type": "code",
   "execution_count": 6,
   "metadata": {},
   "outputs": [
    {
     "name": "stdout",
     "output_type": "stream",
     "text": [
      "x maen : 147.0425\n",
      "y mean : 14.0225\n"
     ]
    }
   ],
   "source": [
    "#mean Calcuation\n",
    "x_mean=np.mean(x)\n",
    "print(\"x maen :\",x_mean)\n",
    "y_mean=np.mean(y)\n",
    "print(\"y mean :\",y_mean)"
   ]
  },
  {
   "cell_type": "code",
   "execution_count": 7,
   "metadata": {},
   "outputs": [
    {
     "name": "stdout",
     "output_type": "stream",
     "text": [
      "200\n",
      "slope: 0.04753664043301969\n",
      "intercept : 7.032593549127704\n"
     ]
    }
   ],
   "source": [
    "#calculating error\n",
    "n=len(x)\n",
    "print(n)  #y=b1x+bo b1=slope,b0=intercept\n",
    "numer=0\n",
    "denom=0\n",
    "for i in range(n):\n",
    "    numer+=(x[i]-x_mean)*(y[i]-y_mean)\n",
    "    denom+=(x[i]-x_mean)**2\n",
    "b1=numer/denom\n",
    "b0=y_mean-(b1*x_mean)\n",
    "print(\"slope:\",b1)\n",
    "print(\"intercept :\",b0)\n"
   ]
  },
  {
   "cell_type": "code",
   "execution_count": 8,
   "metadata": {},
   "outputs": [
    {
     "name": "stdout",
     "output_type": "stream",
     "text": [
      "Linear Equation :y=0.047537x+7.033\n"
     ]
    }
   ],
   "source": [
    "#y=mx+c\n",
    "print(\"Linear Equation :y={:.5}x+{:.4}\".format(b1,b0))"
   ]
  },
  {
   "cell_type": "code",
   "execution_count": 9,
   "metadata": {},
   "outputs": [
    {
     "name": "stdout",
     "output_type": "stream",
     "text": [
      "[17.97077451  9.14797405  7.85022376 14.23439457 15.62721814  7.44616232\n",
      "  9.76595037 12.74649773  7.44140866 16.53041431 10.17476548 17.23871025\n",
      "  8.16396559 11.66741599 16.73482186 16.32125309 10.25557777 20.40940417\n",
      " 10.32212907 14.03474068 17.41459582 18.31779199  7.6600772  17.88520856\n",
      "  9.99412625 19.52997632 13.82557947 18.44614092 18.85970969 10.38868036\n",
      " 20.95607553 12.39948025 11.653155   19.65832525 11.58185004 20.85149492\n",
      " 19.72012288 10.58358059  9.08142275 17.87094757 16.65876324 15.44657891\n",
      " 20.98935118 16.86792445  8.22576322 15.35625929 11.2966302  18.43663359\n",
      " 17.83291826 10.21279479 16.53041431 11.80527225 17.31952254 15.71278409\n",
      " 19.52046899 16.48763133  7.37961102 13.50708398 17.05331735 17.04856369\n",
      "  9.57580381 19.45391769 18.4081116  11.91460652 13.26464711 10.31262174\n",
      "  8.52999772 13.65444756 18.31779199 17.3385372  16.49713866 12.25211667\n",
      "  8.30657551 13.18383482 17.17691262  7.83596277  8.33985116 12.76075872\n",
      "  7.28929141 12.54684384 10.66439288 18.43187992 10.61210257 10.28409975\n",
      " 17.18166628 16.21667248 10.65963921 12.29489965 11.2300789  12.25211667\n",
      " 13.41676436  8.39214147 17.38132017 18.95953663 12.13802873 14.79532693\n",
      " 16.4258337  15.82211837 20.80395828 13.45954734 17.60474238 21.12245377\n",
      " 20.3523602  15.96472829 18.3558213  13.58789626  8.22100956 11.32990584\n",
      "  7.65532354 19.17345152 17.76636696 18.52219954 15.38478127 16.99627338\n",
      " 10.74995883 10.60259525 13.6496939  10.66439288 13.00794925  7.95480437\n",
      " 13.74952084  7.92628239 17.68080101 12.88435399 17.94225253 11.17778859\n",
      "  7.40337934 10.84503211 17.50491544  9.86577732  7.0658692  19.63931059\n",
      "  7.43190133 17.48114712  8.78669558  9.32861328  8.24953154 20.04337204\n",
      "  9.07666909 15.82211837 10.52178296 16.2404408  17.51442276 12.00492614\n",
      " 11.60561836 13.7019842  18.44614092 18.5935045   8.83898589  9.15748138\n",
      " 20.37612852 12.78452704 16.4258337  15.17562006 15.95997462  7.22749377\n",
      " 11.49628409 14.15358229  7.58877224 13.29316909 15.23266402 11.10648363\n",
      " 15.98849661 14.80483426 12.60388781 18.17993573  7.88349941 16.86317079\n",
      " 17.2719859  20.54726042  9.40942557 14.8523709   7.9643117  15.0377638\n",
      " 17.60474238 20.19548929 18.84069503 15.12332975 20.18598196 14.9046612\n",
      " 14.47683144 17.41934948  9.70415274 20.70413134 19.09739289 16.77760484\n",
      " 13.66395489 16.11684554 20.62807271  7.92152873  8.91029085 10.6216099\n",
      "  7.85022376 14.96170517 14.14882862  8.84849321 11.51054508 15.44657891\n",
      " 20.51398478 18.06584779]\n"
     ]
    }
   ],
   "source": [
    "y_predict=b1*x+b0\n",
    "print(y_predict)"
   ]
  },
  {
   "cell_type": "code",
   "execution_count": 10,
   "metadata": {},
   "outputs": [
    {
     "name": "stdout",
     "output_type": "stream",
     "text": [
      "r2 score: [ 0.42446212  0.12274872 -0.40653306  0.99834233  0.9049271  -0.59671515\n",
      "  0.3310793   0.93988787 -0.59902433  0.76778802  0.45340024  0.61810137\n",
      " -0.26717678  0.79522731  0.72839255  0.80490601  0.47611913 -0.50605223\n",
      "  0.49446671  0.99999447  0.57518929  0.31884709 -0.49452879  0.44913761\n",
      "  0.4008732  -0.11986201  0.99856834  0.27753141  0.13612867  0.51248726\n",
      " -0.77489938  0.90274614  0.79273983 -0.17266583  0.78007721 -0.72176079\n",
      " -0.19852372  0.5633804   0.0986312   0.45319764  0.74341174  0.92512664\n",
      " -0.79197647  0.70108111 -0.24058462  0.93432287  0.72567243  0.28063355\n",
      "  0.46395095  0.46415155  0.76778802  0.81849866  0.59866867  0.89451793\n",
      " -0.115999    0.77564314 -0.62919558  0.99019212  0.6608602   0.6619232\n",
      "  0.26998102 -0.08914484  0.28989991  0.83595743  0.97879545  0.49186565\n",
      " -0.1137808   0.99499875  0.31884709  0.59402619  0.77390924  0.88428388\n",
      " -0.20623576  0.97403212  0.6326363  -0.41304013 -0.19223227  0.94122402\n",
      " -0.67379926  0.9196049   0.58365982  0.28218211  0.5705929   0.48402242\n",
      "  0.63152824  0.82225362  0.58248026  0.88980908  0.71211366  0.88428388\n",
      "  0.98645355 -0.17039198  0.58348299  0.1001048   0.86888926  0.97794923\n",
      "  0.78675081  0.8804306  -0.69787387  0.98829954  0.52622824 -0.86110243\n",
      " -0.47927007  0.86072929  0.30673222  0.99302657 -0.24262016  0.73232918\n",
      " -0.49676289  0.02043297  0.48251228  0.25247406  0.93148387  0.67350617\n",
      "  0.60460655  0.56819541  0.99486873  0.58365982  0.96199797 -0.35927337\n",
      "  0.99724883 -0.37208228  0.5058963   0.95217498  0.43274735  0.70123091\n",
      " -0.61755788  0.62724663  0.55226567  0.36208717 -0.78672266 -0.16476629\n",
      " -0.60364771  0.5583566  -0.01210615  0.18656203 -0.23043196 -0.33837566\n",
      "  0.096896    0.8804306   0.54754723  0.8183819   0.54981762  0.84971414\n",
      "  0.7843398   0.99620722  0.27753141  0.22859485  0.00800883  0.12616739\n",
      " -0.49040011  0.94341758  0.78675081  0.95090828  0.8614102  -0.70466464\n",
      "  0.7643865   0.99936562 -0.52821548  0.98036149  0.94593108  0.68606543\n",
      "  0.85729974  0.97740336  0.92570038  0.36186829 -0.39140828  0.70207905\n",
      "  0.61015807 -0.57176775  0.21433002  0.97457387 -0.35501708  0.96194453\n",
      "  0.52622824 -0.40685805  0.14290693  0.95525963 -0.40252785  0.97126871\n",
      "  0.99237913  0.5739978   0.31151519 -0.64825444  0.04914784  0.71975654\n",
      "  0.99525379  0.83805934 -0.61094306 -0.37422294  0.03511299  0.57298372\n",
      " -0.40653306  0.96743282  0.9994108   0.01164441  0.76703916  0.92512664\n",
      " -0.55577691  0.39641084]\n"
     ]
    }
   ],
   "source": [
    "#r2 score\n",
    "n1=0\n",
    "d1=0\n",
    "for i in range(n):\n",
    "    n1+=(y_predict-y_mean)**2\n",
    "    d1+=(y[i]-y_mean)**2\n",
    "r2=1-n1/d1\n",
    "print(\"r2 score:\",r2)\n"
   ]
  },
  {
   "cell_type": "code",
   "execution_count": 11,
   "metadata": {},
   "outputs": [
    {
     "data": {
      "text/plain": [
       "<matplotlib.legend.Legend at 0xbab276d2e8>"
      ]
     },
     "execution_count": 11,
     "metadata": {},
     "output_type": "execute_result"
    },
    {
     "data": {
      "image/png": "[encoded data removed]",
      "text/plain": [
       "<Figure size 432x288 with 1 Axes>"
      ]
     },
     "metadata": {
      "needs_background": "light"
     },
     "output_type": "display_data"
    }
   ],
   "source": [
    "plt.scatter(x,y_predict,label=\"Linear wave\",color=\"m\")\n",
    "plt.xlabel(\"x\")\n",
    "plt.ylabel(\"y_predicted value\")\n",
    "plt.title(\"Linear regresion with model includeing\")\n",
    "plt.legend()"
   ]
  },
  {
   "cell_type": "code",
   "execution_count": 12,
   "metadata": {},
   "outputs": [],
   "source": [
    "#sklearn \n",
    "from sklearn.linear_model import LinearRegression"
   ]
  },
  {
   "cell_type": "code",
   "execution_count": 13,
   "metadata": {},
   "outputs": [
    {
     "data": {
      "text/plain": [
       "array([[230.1],\n",
       "       [ 44.5],\n",
       "       [ 17.2],\n",
       "       [151.5],\n",
       "       [180.8],\n",
       "       [  8.7],\n",
       "       [ 57.5],\n",
       "       [120.2],\n",
       "       [  8.6],\n",
       "       [199.8],\n",
       "       [ 66.1],\n",
       "       [214.7],\n",
       "       [ 23.8],\n",
       "       [ 97.5],\n",
       "       [204.1],\n",
       "       [195.4],\n",
       "       [ 67.8],\n",
       "       [281.4],\n",
       "       [ 69.2],\n",
       "       [147.3],\n",
       "       [218.4],\n",
       "       [237.4],\n",
       "       [ 13.2],\n",
       "       [228.3],\n",
       "       [ 62.3],\n",
       "       [262.9],\n",
       "       [142.9],\n",
       "       [240.1],\n",
       "       [248.8],\n",
       "       [ 70.6],\n",
       "       [292.9],\n",
       "       [112.9],\n",
       "       [ 97.2],\n",
       "       [265.6],\n",
       "       [ 95.7],\n",
       "       [290.7],\n",
       "       [266.9],\n",
       "       [ 74.7],\n",
       "       [ 43.1],\n",
       "       [228. ],\n",
       "       [202.5],\n",
       "       [177. ],\n",
       "       [293.6],\n",
       "       [206.9],\n",
       "       [ 25.1],\n",
       "       [175.1],\n",
       "       [ 89.7],\n",
       "       [239.9],\n",
       "       [227.2],\n",
       "       [ 66.9],\n",
       "       [199.8],\n",
       "       [100.4],\n",
       "       [216.4],\n",
       "       [182.6],\n",
       "       [262.7],\n",
       "       [198.9],\n",
       "       [  7.3],\n",
       "       [136.2],\n",
       "       [210.8],\n",
       "       [210.7],\n",
       "       [ 53.5],\n",
       "       [261.3],\n",
       "       [239.3],\n",
       "       [102.7],\n",
       "       [131.1],\n",
       "       [ 69. ],\n",
       "       [ 31.5],\n",
       "       [139.3],\n",
       "       [237.4],\n",
       "       [216.8],\n",
       "       [199.1],\n",
       "       [109.8],\n",
       "       [ 26.8],\n",
       "       [129.4],\n",
       "       [213.4],\n",
       "       [ 16.9],\n",
       "       [ 27.5],\n",
       "       [120.5],\n",
       "       [  5.4],\n",
       "       [116. ],\n",
       "       [ 76.4],\n",
       "       [239.8],\n",
       "       [ 75.3],\n",
       "       [ 68.4],\n",
       "       [213.5],\n",
       "       [193.2],\n",
       "       [ 76.3],\n",
       "       [110.7],\n",
       "       [ 88.3],\n",
       "       [109.8],\n",
       "       [134.3],\n",
       "       [ 28.6],\n",
       "       [217.7],\n",
       "       [250.9],\n",
       "       [107.4],\n",
       "       [163.3],\n",
       "       [197.6],\n",
       "       [184.9],\n",
       "       [289.7],\n",
       "       [135.2],\n",
       "       [222.4],\n",
       "       [296.4],\n",
       "       [280.2],\n",
       "       [187.9],\n",
       "       [238.2],\n",
       "       [137.9],\n",
       "       [ 25. ],\n",
       "       [ 90.4],\n",
       "       [ 13.1],\n",
       "       [255.4],\n",
       "       [225.8],\n",
       "       [241.7],\n",
       "       [175.7],\n",
       "       [209.6],\n",
       "       [ 78.2],\n",
       "       [ 75.1],\n",
       "       [139.2],\n",
       "       [ 76.4],\n",
       "       [125.7],\n",
       "       [ 19.4],\n",
       "       [141.3],\n",
       "       [ 18.8],\n",
       "       [224. ],\n",
       "       [123.1],\n",
       "       [229.5],\n",
       "       [ 87.2],\n",
       "       [  7.8],\n",
       "       [ 80.2],\n",
       "       [220.3],\n",
       "       [ 59.6],\n",
       "       [  0.7],\n",
       "       [265.2],\n",
       "       [  8.4],\n",
       "       [219.8],\n",
       "       [ 36.9],\n",
       "       [ 48.3],\n",
       "       [ 25.6],\n",
       "       [273.7],\n",
       "       [ 43. ],\n",
       "       [184.9],\n",
       "       [ 73.4],\n",
       "       [193.7],\n",
       "       [220.5],\n",
       "       [104.6],\n",
       "       [ 96.2],\n",
       "       [140.3],\n",
       "       [240.1],\n",
       "       [243.2],\n",
       "       [ 38. ],\n",
       "       [ 44.7],\n",
       "       [280.7],\n",
       "       [121. ],\n",
       "       [197.6],\n",
       "       [171.3],\n",
       "       [187.8],\n",
       "       [  4.1],\n",
       "       [ 93.9],\n",
       "       [149.8],\n",
       "       [ 11.7],\n",
       "       [131.7],\n",
       "       [172.5],\n",
       "       [ 85.7],\n",
       "       [188.4],\n",
       "       [163.5],\n",
       "       [117.2],\n",
       "       [234.5],\n",
       "       [ 17.9],\n",
       "       [206.8],\n",
       "       [215.4],\n",
       "       [284.3],\n",
       "       [ 50. ],\n",
       "       [164.5],\n",
       "       [ 19.6],\n",
       "       [168.4],\n",
       "       [222.4],\n",
       "       [276.9],\n",
       "       [248.4],\n",
       "       [170.2],\n",
       "       [276.7],\n",
       "       [165.6],\n",
       "       [156.6],\n",
       "       [218.5],\n",
       "       [ 56.2],\n",
       "       [287.6],\n",
       "       [253.8],\n",
       "       [205. ],\n",
       "       [139.5],\n",
       "       [191.1],\n",
       "       [286. ],\n",
       "       [ 18.7],\n",
       "       [ 39.5],\n",
       "       [ 75.5],\n",
       "       [ 17.2],\n",
       "       [166.8],\n",
       "       [149.7],\n",
       "       [ 38.2],\n",
       "       [ 94.2],\n",
       "       [177. ],\n",
       "       [283.6],\n",
       "       [232.1]])"
      ]
     },
     "execution_count": 13,
     "metadata": {},
     "output_type": "execute_result"
    }
   ],
   "source": [
    "x=data[\"TV\"].values.reshape(-1,1)\n",
    "x"
   ]
  },
  {
   "cell_type": "code",
   "execution_count": 14,
   "metadata": {},
   "outputs": [
    {
     "data": {
      "text/plain": [
       "array([[22.1],\n",
       "       [10.4],\n",
       "       [ 9.3],\n",
       "       [18.5],\n",
       "       [12.9],\n",
       "       [ 7.2],\n",
       "       [11.8],\n",
       "       [13.2],\n",
       "       [ 4.8],\n",
       "       [10.6],\n",
       "       [ 8.6],\n",
       "       [17.4],\n",
       "       [ 9.2],\n",
       "       [ 9.7],\n",
       "       [19. ],\n",
       "       [22.4],\n",
       "       [12.5],\n",
       "       [24.4],\n",
       "       [11.3],\n",
       "       [14.6],\n",
       "       [18. ],\n",
       "       [12.5],\n",
       "       [ 5.6],\n",
       "       [15.5],\n",
       "       [ 9.7],\n",
       "       [12. ],\n",
       "       [15. ],\n",
       "       [15.9],\n",
       "       [18.9],\n",
       "       [10.5],\n",
       "       [21.4],\n",
       "       [11.9],\n",
       "       [ 9.6],\n",
       "       [17.4],\n",
       "       [ 9.5],\n",
       "       [12.8],\n",
       "       [25.4],\n",
       "       [14.7],\n",
       "       [10.1],\n",
       "       [21.5],\n",
       "       [16.6],\n",
       "       [17.1],\n",
       "       [20.7],\n",
       "       [12.9],\n",
       "       [ 8.5],\n",
       "       [14.9],\n",
       "       [10.6],\n",
       "       [23.2],\n",
       "       [14.8],\n",
       "       [ 9.7],\n",
       "       [11.4],\n",
       "       [10.7],\n",
       "       [22.6],\n",
       "       [21.2],\n",
       "       [20.2],\n",
       "       [23.7],\n",
       "       [ 5.5],\n",
       "       [13.2],\n",
       "       [23.8],\n",
       "       [18.4],\n",
       "       [ 8.1],\n",
       "       [24.2],\n",
       "       [15.7],\n",
       "       [14. ],\n",
       "       [18. ],\n",
       "       [ 9.3],\n",
       "       [ 9.5],\n",
       "       [13.4],\n",
       "       [18.9],\n",
       "       [22.3],\n",
       "       [18.3],\n",
       "       [12.4],\n",
       "       [ 8.8],\n",
       "       [11. ],\n",
       "       [17. ],\n",
       "       [ 8.7],\n",
       "       [ 6.9],\n",
       "       [14.2],\n",
       "       [ 5.3],\n",
       "       [11. ],\n",
       "       [11.8],\n",
       "       [12.3],\n",
       "       [11.3],\n",
       "       [13.6],\n",
       "       [21.7],\n",
       "       [15.2],\n",
       "       [12. ],\n",
       "       [16. ],\n",
       "       [12.9],\n",
       "       [16.7],\n",
       "       [11.2],\n",
       "       [ 7.3],\n",
       "       [19.4],\n",
       "       [22.2],\n",
       "       [11.5],\n",
       "       [16.9],\n",
       "       [11.7],\n",
       "       [15.5],\n",
       "       [25.4],\n",
       "       [17.2],\n",
       "       [11.7],\n",
       "       [23.8],\n",
       "       [14.8],\n",
       "       [14.7],\n",
       "       [20.7],\n",
       "       [19.2],\n",
       "       [ 7.2],\n",
       "       [ 8.7],\n",
       "       [ 5.3],\n",
       "       [19.8],\n",
       "       [13.4],\n",
       "       [21.8],\n",
       "       [14.1],\n",
       "       [15.9],\n",
       "       [14.6],\n",
       "       [12.6],\n",
       "       [12.2],\n",
       "       [ 9.4],\n",
       "       [15.9],\n",
       "       [ 6.6],\n",
       "       [15.5],\n",
       "       [ 7. ],\n",
       "       [11.6],\n",
       "       [15.2],\n",
       "       [19.7],\n",
       "       [10.6],\n",
       "       [ 6.6],\n",
       "       [ 8.8],\n",
       "       [24.7],\n",
       "       [ 9.7],\n",
       "       [ 1.6],\n",
       "       [12.7],\n",
       "       [ 5.7],\n",
       "       [19.6],\n",
       "       [10.8],\n",
       "       [11.6],\n",
       "       [ 9.5],\n",
       "       [20.8],\n",
       "       [ 9.6],\n",
       "       [20.7],\n",
       "       [10.9],\n",
       "       [19.2],\n",
       "       [20.1],\n",
       "       [10.4],\n",
       "       [11.4],\n",
       "       [10.3],\n",
       "       [13.2],\n",
       "       [25.4],\n",
       "       [10.9],\n",
       "       [10.1],\n",
       "       [16.1],\n",
       "       [11.6],\n",
       "       [16.6],\n",
       "       [19. ],\n",
       "       [15.6],\n",
       "       [ 3.2],\n",
       "       [15.3],\n",
       "       [10.1],\n",
       "       [ 7.3],\n",
       "       [12.9],\n",
       "       [14.4],\n",
       "       [13.3],\n",
       "       [14.9],\n",
       "       [18. ],\n",
       "       [11.9],\n",
       "       [11.9],\n",
       "       [ 8. ],\n",
       "       [12.2],\n",
       "       [17.1],\n",
       "       [15. ],\n",
       "       [ 8.4],\n",
       "       [14.5],\n",
       "       [ 7.6],\n",
       "       [11.7],\n",
       "       [11.5],\n",
       "       [27. ],\n",
       "       [20.2],\n",
       "       [11.7],\n",
       "       [11.8],\n",
       "       [12.6],\n",
       "       [10.5],\n",
       "       [12.2],\n",
       "       [ 8.7],\n",
       "       [26.2],\n",
       "       [17.6],\n",
       "       [22.6],\n",
       "       [10.3],\n",
       "       [17.3],\n",
       "       [15.9],\n",
       "       [ 6.7],\n",
       "       [10.8],\n",
       "       [ 9.9],\n",
       "       [ 5.9],\n",
       "       [19.6],\n",
       "       [17.3],\n",
       "       [ 7.6],\n",
       "       [ 9.7],\n",
       "       [12.8],\n",
       "       [25.5],\n",
       "       [13.4]])"
      ]
     },
     "execution_count": 14,
     "metadata": {},
     "output_type": "execute_result"
    }
   ],
   "source": [
    "y=data[\"sales\"].values.reshape(-1,1)\n",
    "y"
   ]
  },
  {
   "cell_type": "code",
   "execution_count": 15,
   "metadata": {},
   "outputs": [
    {
     "data": {
      "text/plain": [
       "LinearRegression(copy_X=True, fit_intercept=True, n_jobs=None, normalize=False)"
      ]
     },
     "execution_count": 15,
     "metadata": {},
     "output_type": "execute_result"
    }
   ],
   "source": [
    "reg=LinearRegression()\n",
    "reg.fit(x,y)"
   ]
  },
  {
   "cell_type": "code",
   "execution_count": 16,
   "metadata": {},
   "outputs": [
    {
     "data": {
      "text/plain": [
       "array([[0.04753664]])"
      ]
     },
     "execution_count": 16,
     "metadata": {},
     "output_type": "execute_result"
    }
   ],
   "source": [
    "reg.coef_"
   ]
  },
  {
   "cell_type": "code",
   "execution_count": 17,
   "metadata": {},
   "outputs": [
    {
     "data": {
      "text/plain": [
       "array([7.03259355])"
      ]
     },
     "execution_count": 17,
     "metadata": {},
     "output_type": "execute_result"
    }
   ],
   "source": [
    "reg.intercept_"
   ]
  },
  {
   "cell_type": "code",
   "execution_count": 18,
   "metadata": {},
   "outputs": [
    {
     "name": "stdout",
     "output_type": "stream",
     "text": [
      "[[17.97077451]\n",
      " [ 9.14797405]\n",
      " [ 7.85022376]\n",
      " [14.23439457]\n",
      " [15.62721814]\n",
      " [ 7.44616232]\n",
      " [ 9.76595037]\n",
      " [12.74649773]\n",
      " [ 7.44140866]\n",
      " [16.53041431]\n",
      " [10.17476548]\n",
      " [17.23871025]\n",
      " [ 8.16396559]\n",
      " [11.66741599]\n",
      " [16.73482186]\n",
      " [16.32125309]\n",
      " [10.25557777]\n",
      " [20.40940417]\n",
      " [10.32212907]\n",
      " [14.03474068]\n",
      " [17.41459582]\n",
      " [18.31779199]\n",
      " [ 7.6600772 ]\n",
      " [17.88520856]\n",
      " [ 9.99412625]\n",
      " [19.52997632]\n",
      " [13.82557947]\n",
      " [18.44614092]\n",
      " [18.85970969]\n",
      " [10.38868036]\n",
      " [20.95607553]\n",
      " [12.39948025]\n",
      " [11.653155  ]\n",
      " [19.65832525]\n",
      " [11.58185004]\n",
      " [20.85149492]\n",
      " [19.72012288]\n",
      " [10.58358059]\n",
      " [ 9.08142275]\n",
      " [17.87094757]\n",
      " [16.65876324]\n",
      " [15.44657891]\n",
      " [20.98935118]\n",
      " [16.86792445]\n",
      " [ 8.22576322]\n",
      " [15.35625929]\n",
      " [11.2966302 ]\n",
      " [18.43663359]\n",
      " [17.83291826]\n",
      " [10.21279479]\n",
      " [16.53041431]\n",
      " [11.80527225]\n",
      " [17.31952254]\n",
      " [15.71278409]\n",
      " [19.52046899]\n",
      " [16.48763133]\n",
      " [ 7.37961102]\n",
      " [13.50708398]\n",
      " [17.05331735]\n",
      " [17.04856369]\n",
      " [ 9.57580381]\n",
      " [19.45391769]\n",
      " [18.4081116 ]\n",
      " [11.91460652]\n",
      " [13.26464711]\n",
      " [10.31262174]\n",
      " [ 8.52999772]\n",
      " [13.65444756]\n",
      " [18.31779199]\n",
      " [17.3385372 ]\n",
      " [16.49713866]\n",
      " [12.25211667]\n",
      " [ 8.30657551]\n",
      " [13.18383482]\n",
      " [17.17691262]\n",
      " [ 7.83596277]\n",
      " [ 8.33985116]\n",
      " [12.76075872]\n",
      " [ 7.28929141]\n",
      " [12.54684384]\n",
      " [10.66439288]\n",
      " [18.43187992]\n",
      " [10.61210257]\n",
      " [10.28409975]\n",
      " [17.18166628]\n",
      " [16.21667248]\n",
      " [10.65963921]\n",
      " [12.29489965]\n",
      " [11.2300789 ]\n",
      " [12.25211667]\n",
      " [13.41676436]\n",
      " [ 8.39214147]\n",
      " [17.38132017]\n",
      " [18.95953663]\n",
      " [12.13802873]\n",
      " [14.79532693]\n",
      " [16.4258337 ]\n",
      " [15.82211837]\n",
      " [20.80395828]\n",
      " [13.45954734]\n",
      " [17.60474238]\n",
      " [21.12245377]\n",
      " [20.3523602 ]\n",
      " [15.96472829]\n",
      " [18.3558213 ]\n",
      " [13.58789626]\n",
      " [ 8.22100956]\n",
      " [11.32990584]\n",
      " [ 7.65532354]\n",
      " [19.17345152]\n",
      " [17.76636696]\n",
      " [18.52219954]\n",
      " [15.38478127]\n",
      " [16.99627338]\n",
      " [10.74995883]\n",
      " [10.60259525]\n",
      " [13.6496939 ]\n",
      " [10.66439288]\n",
      " [13.00794925]\n",
      " [ 7.95480437]\n",
      " [13.74952084]\n",
      " [ 7.92628239]\n",
      " [17.68080101]\n",
      " [12.88435399]\n",
      " [17.94225253]\n",
      " [11.17778859]\n",
      " [ 7.40337934]\n",
      " [10.84503211]\n",
      " [17.50491544]\n",
      " [ 9.86577732]\n",
      " [ 7.0658692 ]\n",
      " [19.63931059]\n",
      " [ 7.43190133]\n",
      " [17.48114712]\n",
      " [ 8.78669558]\n",
      " [ 9.32861328]\n",
      " [ 8.24953154]\n",
      " [20.04337204]\n",
      " [ 9.07666909]\n",
      " [15.82211837]\n",
      " [10.52178296]\n",
      " [16.2404408 ]\n",
      " [17.51442276]\n",
      " [12.00492614]\n",
      " [11.60561836]\n",
      " [13.7019842 ]\n",
      " [18.44614092]\n",
      " [18.5935045 ]\n",
      " [ 8.83898589]\n",
      " [ 9.15748138]\n",
      " [20.37612852]\n",
      " [12.78452704]\n",
      " [16.4258337 ]\n",
      " [15.17562006]\n",
      " [15.95997462]\n",
      " [ 7.22749377]\n",
      " [11.49628409]\n",
      " [14.15358229]\n",
      " [ 7.58877224]\n",
      " [13.29316909]\n",
      " [15.23266402]\n",
      " [11.10648363]\n",
      " [15.98849661]\n",
      " [14.80483426]\n",
      " [12.60388781]\n",
      " [18.17993573]\n",
      " [ 7.88349941]\n",
      " [16.86317079]\n",
      " [17.2719859 ]\n",
      " [20.54726042]\n",
      " [ 9.40942557]\n",
      " [14.8523709 ]\n",
      " [ 7.9643117 ]\n",
      " [15.0377638 ]\n",
      " [17.60474238]\n",
      " [20.19548929]\n",
      " [18.84069503]\n",
      " [15.12332975]\n",
      " [20.18598196]\n",
      " [14.9046612 ]\n",
      " [14.47683144]\n",
      " [17.41934948]\n",
      " [ 9.70415274]\n",
      " [20.70413134]\n",
      " [19.09739289]\n",
      " [16.77760484]\n",
      " [13.66395489]\n",
      " [16.11684554]\n",
      " [20.62807271]\n",
      " [ 7.92152873]\n",
      " [ 8.91029085]\n",
      " [10.6216099 ]\n",
      " [ 7.85022376]\n",
      " [14.96170517]\n",
      " [14.14882862]\n",
      " [ 8.84849321]\n",
      " [11.51054508]\n",
      " [15.44657891]\n",
      " [20.51398478]\n",
      " [18.06584779]]\n"
     ]
    }
   ],
   "source": [
    "y_predict=reg.predict(x)\n",
    "print(y_predict)\n"
   ]
  },
  {
   "cell_type": "code",
   "execution_count": 19,
   "metadata": {},
   "outputs": [
    {
     "name": "stdout",
     "output_type": "stream",
     "text": [
      "0.611875050850071\n"
     ]
    }
   ],
   "source": [
    "score=reg.score(x,y)\n",
    "print(score)"
   ]
  },
  {
   "cell_type": "code",
   "execution_count": 23,
   "metadata": {},
   "outputs": [
    {
     "data": {
      "text/plain": [
       "array([[15.44657891]])"
      ]
     },
     "execution_count": 23,
     "metadata": {},
     "output_type": "execute_result"
    }
   ],
   "source": [
    "reg.predict([[177.0]])"
   ]
  },
  {
   "cell_type": "code",
   "execution_count": 22,
   "metadata": {},
   "outputs": [
    {
     "data": {
      "image/png": "[encoded data removed]",
      "text/plain": [
       "<Figure size 432x288 with 1 Axes>"
      ]
     },
     "metadata": {
      "needs_background": "light"
     },
     "output_type": "display_data"
    }
   ],
   "source": [
    "import matplotlib.pyplot as plt\n",
    "plt.scatter(x,y,c='m',label=\"before prediction\")\n",
    "plt.plot(x,y_predict,c='r',label=\"LinearRegression\")\n",
    "plt.xlabel(\"x\")\n",
    "plt.ylabel(\"y\")\n",
    "plt.title(\"LinearRegression Model\")\n",
    "plt.legend(loc='best')\n",
    "plt.show()"
   ]
  },
  {
   "cell_type": "code",
   "execution_count": 26,
   "metadata": {},
   "outputs": [],
   "source": [
    "#Polynomial---Multiple degree=ax2+bx+c\n",
    "from sklearn.preprocessing import PolynomialFeatures"
   ]
  },
  {
   "cell_type": "code",
   "execution_count": 44,
   "metadata": {},
   "outputs": [
    {
     "name": "stdout",
     "output_type": "stream",
     "text": [
      "[[5.6526918 ]\n",
      " [0.89300799]\n",
      " [2.08019973]\n",
      " [3.08532814]\n",
      " [0.34261072]\n",
      " [2.31591026]\n",
      " [3.47488582]\n",
      " [3.72222384]\n",
      " [1.5999352 ]\n",
      " [5.30486366]\n",
      " [5.78150541]\n",
      " [4.30360191]\n",
      " [2.15173852]\n",
      " [0.01034482]\n",
      " [2.02646712]\n",
      " [1.22096726]\n",
      " [1.63581895]\n",
      " [3.32580827]\n",
      " [0.46130268]\n",
      " [4.10875504]\n",
      " [2.8113339 ]\n",
      " [5.36667629]\n",
      " [1.74354536]\n",
      " [0.11045583]\n",
      " [2.26971864]\n",
      " [2.54726136]\n",
      " [3.69780318]\n",
      " [2.56254162]\n",
      " [3.26532626]\n",
      " [3.95875453]\n",
      " [0.29162504]\n",
      " [3.42802938]\n",
      " [5.46755476]\n",
      " [5.34812786]\n",
      " [2.09422118]\n",
      " [4.10888439]\n",
      " [5.77075384]\n",
      " [4.39501575]\n",
      " [3.25637507]\n",
      " [2.41468315]\n",
      " [4.15826473]\n",
      " [2.52558092]\n",
      " [2.88228376]\n",
      " [2.55779395]\n",
      " [0.01935705]\n",
      " [1.37578159]\n",
      " [3.64299137]\n",
      " [1.05312377]\n",
      " [5.15667145]\n",
      " [1.69791392]\n",
      " [2.42834461]\n",
      " [1.9711412 ]\n",
      " [1.84649075]\n",
      " [0.66047797]\n",
      " [1.36972772]\n",
      " [4.13255015]\n",
      " [5.54373804]\n",
      " [4.67833049]\n",
      " [4.5429555 ]\n",
      " [3.37983444]\n",
      " [5.23451024]\n",
      " [0.72529279]\n",
      " [4.41454138]\n",
      " [1.00912055]\n",
      " [5.23910363]\n",
      " [5.81801194]\n",
      " [4.47761334]\n",
      " [5.05434695]\n",
      " [2.02362212]\n",
      " [3.87073286]\n",
      " [2.55765646]\n",
      " [4.13092487]\n",
      " [2.44461865]\n",
      " [3.15813942]\n",
      " [3.28282203]\n",
      " [4.47313683]\n",
      " [2.69544366]\n",
      " [2.93747544]\n",
      " [4.65523617]\n",
      " [5.16322798]\n",
      " [0.59625491]\n",
      " [1.03408073]\n",
      " [5.72437607]\n",
      " [2.13662549]\n",
      " [5.18147302]\n",
      " [5.55604063]\n",
      " [1.61814107]\n",
      " [1.23566669]\n",
      " [1.06899869]\n",
      " [3.58133033]\n",
      " [2.45413065]\n",
      " [1.42305349]\n",
      " [3.15457489]\n",
      " [3.51709034]\n",
      " [3.34818321]\n",
      " [4.49301362]\n",
      " [0.77419768]\n",
      " [2.61399081]\n",
      " [2.35742191]\n",
      " [1.49257054]]\n",
      "[[28.21896603]\n",
      " [ 2.49416849]\n",
      " [ 6.95025019]\n",
      " [11.27018591]\n",
      " [ 1.18673042]\n",
      " [ 8.18599275]\n",
      " [13.65364472]\n",
      " [14.98062609]\n",
      " [ 5.40567738]\n",
      " [25.56703524]\n",
      " [29.07673487]\n",
      " [18.53249974]\n",
      " [ 7.04240341]\n",
      " [ 0.72638277]\n",
      " [ 6.83923392]\n",
      " [ 3.35618863]\n",
      " [ 5.07337626]\n",
      " [12.8803319 ]\n",
      " [ 1.74687739]\n",
      " [17.35948648]\n",
      " [ 9.87394567]\n",
      " [25.71287615]\n",
      " [ 5.61345982]\n",
      " [ 0.51750615]\n",
      " [ 8.05214033]\n",
      " [ 8.42937374]\n",
      " [14.67029591]\n",
      " [ 8.93646331]\n",
      " [12.61037018]\n",
      " [16.71695818]\n",
      " [ 1.39545277]\n",
      " [12.73703401]\n",
      " [26.06829971]\n",
      " [25.37799839]\n",
      " [ 7.13284072]\n",
      " [16.66588602]\n",
      " [28.2644076 ]\n",
      " [18.60889051]\n",
      " [12.28402365]\n",
      " [ 8.09105694]\n",
      " [17.43719885]\n",
      " [ 8.36575717]\n",
      " [ 9.95453841]\n",
      " [ 8.71688594]\n",
      " [ 0.08847558]\n",
      " [ 4.37972758]\n",
      " [14.22268535]\n",
      " [ 2.8580764 ]\n",
      " [24.13001699]\n",
      " [ 5.31076302]\n",
      " [ 8.54289173]\n",
      " [ 6.44600436]\n",
      " [ 5.56062342]\n",
      " [ 2.28953825]\n",
      " [ 3.88596245]\n",
      " [17.5493426 ]\n",
      " [26.67970763]\n",
      " [21.0095706 ]\n",
      " [20.24931757]\n",
      " [13.14175953]\n",
      " [24.99186773]\n",
      " [ 2.29797425]\n",
      " [18.74390389]\n",
      " [ 2.6695912 ]\n",
      " [24.25076407]\n",
      " [28.68246288]\n",
      " [19.73222947]\n",
      " [23.43211913]\n",
      " [ 6.24972222]\n",
      " [16.14395659]\n",
      " [ 8.40062775]\n",
      " [17.25349171]\n",
      " [ 8.65812477]\n",
      " [11.57837752]\n",
      " [12.25764589]\n",
      " [19.34852947]\n",
      " [ 9.37323465]\n",
      " [10.86900024]\n",
      " [20.47388661]\n",
      " [24.35192134]\n",
      " [ 1.940549  ]\n",
      " [ 3.02221302]\n",
      " [28.00570838]\n",
      " [ 7.21336267]\n",
      " [24.68222517]\n",
      " [27.44833375]\n",
      " [ 5.17799101]\n",
      " [ 4.05582708]\n",
      " [ 3.69544216]\n",
      " [14.39095146]\n",
      " [ 8.21434442]\n",
      " [ 4.36116809]\n",
      " [11.63224085]\n",
      " [13.33741145]\n",
      " [12.47198964]\n",
      " [19.18709954]\n",
      " [ 2.3083755 ]\n",
      " [ 9.61834102]\n",
      " [ 7.5124097 ]\n",
      " [ 4.93827562]]\n",
      "(100, 1)\n"
     ]
    }
   ],
   "source": [
    "x1=6*np.random.rand(100,1)\n",
    "print(x1)\n",
    "y1=0.5*x1**2+x1*2+np.random.rand(100,1) #y=ax2+bx+c=>a=0.5 \n",
    "\n",
    "print(y1)#4*x1**3+x1+3+np.random.random(100,1)\n",
    "print(x1.shape)"
   ]
  },
  {
   "cell_type": "code",
   "execution_count": 35,
   "metadata": {},
   "outputs": [
    {
     "name": "stdout",
     "output_type": "stream",
     "text": [
      "(100, 1)\n"
     ]
    }
   ],
   "source": [
    "print(y1.shape)"
   ]
  },
  {
   "cell_type": "code",
   "execution_count": 36,
   "metadata": {},
   "outputs": [
    {
     "data": {
      "text/plain": [
       "[<matplotlib.lines.Line2D at 0xbaaa3e1908>]"
      ]
     },
     "execution_count": 36,
     "metadata": {},
     "output_type": "execute_result"
    },
    {
     "data": {
      "image/png": "[encoded data removed]",
      "text/plain": [
       "<Figure size 432x288 with 1 Axes>"
      ]
     },
     "metadata": {
      "needs_background": "light"
     },
     "output_type": "display_data"
    }
   ],
   "source": [
    "plt.plot(x1,y1,'.')"
   ]
  },
  {
   "cell_type": "code",
   "execution_count": 97,
   "metadata": {},
   "outputs": [],
   "source": [
    "poly=PolynomialFeatures(degree=1)"
   ]
  },
  {
   "cell_type": "code",
   "execution_count": 98,
   "metadata": {},
   "outputs": [
    {
     "data": {
      "text/plain": [
       "array([[1.        , 5.6526918 ],\n",
       "       [1.        , 0.89300799],\n",
       "       [1.        , 2.08019973],\n",
       "       [1.        , 3.08532814],\n",
       "       [1.        , 0.34261072],\n",
       "       [1.        , 2.31591026],\n",
       "       [1.        , 3.47488582],\n",
       "       [1.        , 3.72222384],\n",
       "       [1.        , 1.5999352 ],\n",
       "       [1.        , 5.30486366],\n",
       "       [1.        , 5.78150541],\n",
       "       [1.        , 4.30360191],\n",
       "       [1.        , 2.15173852],\n",
       "       [1.        , 0.01034482],\n",
       "       [1.        , 2.02646712],\n",
       "       [1.        , 1.22096726],\n",
       "       [1.        , 1.63581895],\n",
       "       [1.        , 3.32580827],\n",
       "       [1.        , 0.46130268],\n",
       "       [1.        , 4.10875504],\n",
       "       [1.        , 2.8113339 ],\n",
       "       [1.        , 5.36667629],\n",
       "       [1.        , 1.74354536],\n",
       "       [1.        , 0.11045583],\n",
       "       [1.        , 2.26971864],\n",
       "       [1.        , 2.54726136],\n",
       "       [1.        , 3.69780318],\n",
       "       [1.        , 2.56254162],\n",
       "       [1.        , 3.26532626],\n",
       "       [1.        , 3.95875453],\n",
       "       [1.        , 0.29162504],\n",
       "       [1.        , 3.42802938],\n",
       "       [1.        , 5.46755476],\n",
       "       [1.        , 5.34812786],\n",
       "       [1.        , 2.09422118],\n",
       "       [1.        , 4.10888439],\n",
       "       [1.        , 5.77075384],\n",
       "       [1.        , 4.39501575],\n",
       "       [1.        , 3.25637507],\n",
       "       [1.        , 2.41468315],\n",
       "       [1.        , 4.15826473],\n",
       "       [1.        , 2.52558092],\n",
       "       [1.        , 2.88228376],\n",
       "       [1.        , 2.55779395],\n",
       "       [1.        , 0.01935705],\n",
       "       [1.        , 1.37578159],\n",
       "       [1.        , 3.64299137],\n",
       "       [1.        , 1.05312377],\n",
       "       [1.        , 5.15667145],\n",
       "       [1.        , 1.69791392],\n",
       "       [1.        , 2.42834461],\n",
       "       [1.        , 1.9711412 ],\n",
       "       [1.        , 1.84649075],\n",
       "       [1.        , 0.66047797],\n",
       "       [1.        , 1.36972772],\n",
       "       [1.        , 4.13255015],\n",
       "       [1.        , 5.54373804],\n",
       "       [1.        , 4.67833049],\n",
       "       [1.        , 4.5429555 ],\n",
       "       [1.        , 3.37983444],\n",
       "       [1.        , 5.23451024],\n",
       "       [1.        , 0.72529279],\n",
       "       [1.        , 4.41454138],\n",
       "       [1.        , 1.00912055],\n",
       "       [1.        , 5.23910363],\n",
       "       [1.        , 5.81801194],\n",
       "       [1.        , 4.47761334],\n",
       "       [1.        , 5.05434695],\n",
       "       [1.        , 2.02362212],\n",
       "       [1.        , 3.87073286],\n",
       "       [1.        , 2.55765646],\n",
       "       [1.        , 4.13092487],\n",
       "       [1.        , 2.44461865],\n",
       "       [1.        , 3.15813942],\n",
       "       [1.        , 3.28282203],\n",
       "       [1.        , 4.47313683],\n",
       "       [1.        , 2.69544366],\n",
       "       [1.        , 2.93747544],\n",
       "       [1.        , 4.65523617],\n",
       "       [1.        , 5.16322798],\n",
       "       [1.        , 0.59625491],\n",
       "       [1.        , 1.03408073],\n",
       "       [1.        , 5.72437607],\n",
       "       [1.        , 2.13662549],\n",
       "       [1.        , 5.18147302],\n",
       "       [1.        , 5.55604063],\n",
       "       [1.        , 1.61814107],\n",
       "       [1.        , 1.23566669],\n",
       "       [1.        , 1.06899869],\n",
       "       [1.        , 3.58133033],\n",
       "       [1.        , 2.45413065],\n",
       "       [1.        , 1.42305349],\n",
       "       [1.        , 3.15457489],\n",
       "       [1.        , 3.51709034],\n",
       "       [1.        , 3.34818321],\n",
       "       [1.        , 4.49301362],\n",
       "       [1.        , 0.77419768],\n",
       "       [1.        , 2.61399081],\n",
       "       [1.        , 2.35742191],\n",
       "       [1.        , 1.49257054]])"
      ]
     },
     "execution_count": 98,
     "metadata": {},
     "output_type": "execute_result"
    }
   ],
   "source": [
    "x_poly=poly.fit_transform(x1)\n",
    "x_poly"
   ]
  },
  {
   "cell_type": "code",
   "execution_count": 99,
   "metadata": {},
   "outputs": [
    {
     "data": {
      "text/plain": [
       "array([5.6526918])"
      ]
     },
     "execution_count": 99,
     "metadata": {},
     "output_type": "execute_result"
    }
   ],
   "source": [
    "x1[0]"
   ]
  },
  {
   "cell_type": "code",
   "execution_count": 100,
   "metadata": {},
   "outputs": [
    {
     "data": {
      "text/plain": [
       "array([1.       , 5.6526918])"
      ]
     },
     "execution_count": 100,
     "metadata": {},
     "output_type": "execute_result"
    }
   ],
   "source": [
    "x_poly[0]"
   ]
  },
  {
   "cell_type": "code",
   "execution_count": 101,
   "metadata": {},
   "outputs": [
    {
     "data": {
      "text/plain": [
       "array([3.08532814])"
      ]
     },
     "execution_count": 101,
     "metadata": {},
     "output_type": "execute_result"
    }
   ],
   "source": [
    "x1[3]"
   ]
  },
  {
   "cell_type": "code",
   "execution_count": 102,
   "metadata": {},
   "outputs": [
    {
     "data": {
      "text/plain": [
       "array([1.        , 3.08532814])"
      ]
     },
     "execution_count": 102,
     "metadata": {},
     "output_type": "execute_result"
    }
   ],
   "source": [
    "x_poly[3]"
   ]
  },
  {
   "cell_type": "code",
   "execution_count": 103,
   "metadata": {},
   "outputs": [
    {
     "data": {
      "text/plain": [
       "PolynomialFeatures(degree=1, include_bias=True, interaction_only=False,\n",
       "                   order='C')"
      ]
     },
     "execution_count": 103,
     "metadata": {},
     "output_type": "execute_result"
    }
   ],
   "source": [
    "poly.fit(x_poly,y1)"
   ]
  },
  {
   "cell_type": "code",
   "execution_count": 104,
   "metadata": {},
   "outputs": [],
   "source": [
    "from sklearn.linear_model import LinearRegression\n",
    "lin=LinearRegression()"
   ]
  },
  {
   "cell_type": "code",
   "execution_count": 105,
   "metadata": {},
   "outputs": [
    {
     "data": {
      "text/plain": [
       "LinearRegression(copy_X=True, fit_intercept=True, n_jobs=None, normalize=False)"
      ]
     },
     "execution_count": 105,
     "metadata": {},
     "output_type": "execute_result"
    }
   ],
   "source": [
    "lin.fit(x_poly,y1)"
   ]
  },
  {
   "cell_type": "code",
   "execution_count": 106,
   "metadata": {},
   "outputs": [
    {
     "data": {
      "text/plain": [
       "array([-2.83645516])"
      ]
     },
     "execution_count": 106,
     "metadata": {},
     "output_type": "execute_result"
    }
   ],
   "source": [
    "lin.intercept_"
   ]
  },
  {
   "cell_type": "code",
   "execution_count": 107,
   "metadata": {},
   "outputs": [
    {
     "data": {
      "text/plain": [
       "array([[0.        , 5.03976676]])"
      ]
     },
     "execution_count": 107,
     "metadata": {},
     "output_type": "execute_result"
    }
   ],
   "source": [
    "lin.coef_"
   ]
  },
  {
   "cell_type": "code",
   "execution_count": 108,
   "metadata": {},
   "outputs": [],
   "source": [
    "y_predictions=lin.predict(x_poly)\n",
    "#y_predictions"
   ]
  },
  {
   "cell_type": "code",
   "execution_count": 109,
   "metadata": {},
   "outputs": [
    {
     "data": {
      "image/png": "[encoded data removed]",
      "text/plain": [
       "<Figure size 432x288 with 1 Axes>"
      ]
     },
     "metadata": {
      "needs_background": "light"
     },
     "output_type": "display_data"
    }
   ],
   "source": [
    "plt.scatter(x1,y1,c='g',label=\"before polynomial\")\n",
    "plt.plot(x1,y_predictions,c=\"r\",\n",
    "         label=\"after polynomial linear regression\")\n",
    "plt.xlabel(\"x1\")\n",
    "plt.ylabel(\"y1\")\n",
    "plt.title(\"linear regreesion with polynomial features\")\n",
    "plt.legend('best')\n",
    "plt.show()"
   ]
  },
  {
   "cell_type": "code",
   "execution_count": null,
   "metadata": {},
   "outputs": [],
   "source": []
  }
 ],
 "metadata": {
  "kernelspec": {
   "display_name": "Python 3",
   "language": "python",
   "name": "python3"
  },
  "language_info": {
   "codemirror_mode": {
    "name": "ipython",
    "version": 3
   },
   "file_extension": ".py",
   "mimetype": "text/x-python",
   "name": "python",
   "nbconvert_exporter": "python",
   "pygments_lexer": "ipython3",
   "version": "3.7.3"
  }
 },
 "nbformat": 4,
 "nbformat_minor": 2
}
